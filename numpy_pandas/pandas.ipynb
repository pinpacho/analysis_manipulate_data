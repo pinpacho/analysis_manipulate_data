{
 "cells": [
  {
   "cell_type": "markdown",
   "id": "b14bcfac",
   "metadata": {},
   "source": [
    "# Pandas : Dataset"
   ]
  },
  {
   "cell_type": "markdown",
   "id": "b9391981",
   "metadata": {},
   "source": [
    "## Create DataFrames from data structures"
   ]
  },
  {
   "cell_type": "code",
   "execution_count": 124,
   "id": "b06f4d72",
   "metadata": {},
   "outputs": [
    {
     "name": "stdout",
     "output_type": "stream",
     "text": [
      "   A  B  C\n",
      "0  1  2  3\n",
      "1  4  5  6\n",
      "2  7  8  9\n"
     ]
    }
   ],
   "source": [
    "import numpy as np\n",
    "import pandas as pd\n",
    "\n",
    "data = np.array([[1, 2, 3], [4, 5, 6], [7, 8, 9]])\n",
    "\n",
    "dt_from_array = pd.DataFrame(data,columns=['A','B','C'])\n",
    "print(dt_from_array)"
   ]
  },
  {
   "cell_type": "code",
   "execution_count": 125,
   "id": "b89b3d1f",
   "metadata": {},
   "outputs": [
    {
     "name": "stdout",
     "output_type": "stream",
     "text": [
      "   ID   Name  Age\n",
      "0   1   Jhon   22\n",
      "1   2  Marry   33\n",
      "2   3  Peter   44\n"
     ]
    }
   ],
   "source": [
    "data2 = [[1,'Jhon',22],[2,'Marry',33],[3,'Peter',44]]\n",
    "\n",
    "df_from_list = pd.DataFrame(data2,columns=['ID','Name','Age'])\n",
    "print(df_from_list)"
   ]
  },
  {
   "cell_type": "code",
   "execution_count": 126,
   "id": "4ec77ff5",
   "metadata": {},
   "outputs": [
    {
     "name": "stdout",
     "output_type": "stream",
     "text": [
      "   ID   Name  Age\n",
      "0   1   Jhon   22\n",
      "1   2  Marry   33\n",
      "2   3  Peter   44\n"
     ]
    }
   ],
   "source": [
    "data = [{'ID':1,'Name':'Jhon','Age':22},\n",
    "        {'ID':2,'Name':'Marry','Age':33},\n",
    "        {'ID':3,'Name':'Peter','Age':44}]\n",
    "\n",
    "df_from_dict = pd.DataFrame(data)\n",
    "print(df_from_dict)"
   ]
  },
  {
   "cell_type": "code",
   "execution_count": 127,
   "id": "3b9a8ef5",
   "metadata": {},
   "outputs": [
    {
     "name": "stdout",
     "output_type": "stream",
     "text": [
      "   ID   Name  Age\n",
      "0   1   Jhon   22\n",
      "1   2  Marry   33\n",
      "2   3  Peter   44\n"
     ]
    }
   ],
   "source": [
    "data = {'ID':pd.Series([1,2,3]),\n",
    "        'Name':pd.Series(['Jhon','Marry','Peter']),\n",
    "        'Age':pd.Series([22,33,44])}\n",
    "\n",
    "\n",
    "df_from_series= pd.DataFrame(data)\n",
    "print(df_from_series)"
   ]
  },
  {
   "cell_type": "markdown",
   "id": "d1fee40a",
   "metadata": {},
   "source": [
    "## Retail Data"
   ]
  },
  {
   "cell_type": "code",
   "execution_count": 128,
   "id": "2195360a",
   "metadata": {},
   "outputs": [
    {
     "name": "stdout",
     "output_type": "stream",
     "text": [
      "Dataset descargado en: /home/pinpa/.cache/kagglehub/datasets/tunguz/online-retail/versions/1\n",
      "Archivos copiados a: /home/pinpa/Documents/programacion/platzi_course/data_manipulate_visualization/numpy_pandas/online-retail\n"
     ]
    }
   ],
   "source": [
    "import kagglehub\n",
    "import shutil\n",
    "import os\n",
    "\n",
    "# Descargar la última versión del dataset\n",
    "path = kagglehub.dataset_download(\"tunguz/online-retail\")\n",
    "\n",
    "print(\"Dataset descargado en:\", path)\n",
    "\n",
    "# Obtener la carpeta actual\n",
    "current_dir = os.getcwd()\n",
    "\n",
    "# Crear una carpeta destino dentro del directorio actual\n",
    "dest_dir = os.path.join(current_dir, \"online-retail\")\n",
    "os.makedirs(dest_dir, exist_ok=True)\n",
    "\n",
    "# Copiar los archivos descargados a la carpeta actual\n",
    "for file_name in os.listdir(path):\n",
    "    full_file_name = os.path.join(path, file_name)\n",
    "    if os.path.isfile(full_file_name):\n",
    "        shutil.copy(full_file_name, dest_dir)\n",
    "\n",
    "print(f\"Archivos copiados a: {dest_dir}\")\n"
   ]
  },
  {
   "cell_type": "code",
   "execution_count": 129,
   "id": "b68509e6",
   "metadata": {},
   "outputs": [
    {
     "name": "stdout",
     "output_type": "stream",
     "text": [
      "  InvoiceNo StockCode                          Description  Quantity  \\\n",
      "0    536365    85123A   WHITE HANGING HEART T-LIGHT HOLDER         6   \n",
      "1    536365     71053                  WHITE METAL LANTERN         6   \n",
      "2    536365    84406B       CREAM CUPID HEARTS COAT HANGER         8   \n",
      "3    536365    84029G  KNITTED UNION FLAG HOT WATER BOTTLE         6   \n",
      "4    536365    84029E       RED WOOLLY HOTTIE WHITE HEART.         6   \n",
      "\n",
      "    InvoiceDate  UnitPrice  CustomerID         Country  \n",
      "0  12/1/10 8:26       2.55     17850.0  United Kingdom  \n",
      "1  12/1/10 8:26       3.39     17850.0  United Kingdom  \n",
      "2  12/1/10 8:26       2.75     17850.0  United Kingdom  \n",
      "3  12/1/10 8:26       3.39     17850.0  United Kingdom  \n",
      "4  12/1/10 8:26       3.39     17850.0  United Kingdom  \n",
      "Type Dataframe:\n",
      "<class 'pandas.core.frame.DataFrame'>\n"
     ]
    }
   ],
   "source": [
    "import pandas as pd \n",
    "\n",
    "directory = \"/home/pinpa/Documents/programacion/platzi_course/data_manipulate_visualization/numpy_pandas/online-retail/Online_Retail.csv\"\n",
    "\n",
    "df = pd.read_csv(directory, encoding='latin1')\n",
    "print(df.head())\n",
    "\n",
    "print(\"Type Dataframe:\")\n",
    "print(type(df))"
   ]
  },
  {
   "cell_type": "code",
   "execution_count": 130,
   "id": "0ed1656a",
   "metadata": {},
   "outputs": [
    {
     "name": "stdout",
     "output_type": "stream",
     "text": [
      "Index(['InvoiceNo', 'StockCode', 'Description', 'Quantity', 'InvoiceDate',\n",
      "       'UnitPrice', 'CustomerID', 'Country'],\n",
      "      dtype='object')\n"
     ]
    }
   ],
   "source": [
    "#Nombres de columnas\n",
    "columnas_names= df.columns\n",
    "print(columnas_names)"
   ]
  },
  {
   "cell_type": "code",
   "execution_count": 131,
   "id": "f40858c3",
   "metadata": {},
   "outputs": [
    {
     "name": "stdout",
     "output_type": "stream",
     "text": [
      "Numero de filas: 541909\n",
      "Numero de columnas: 8\n"
     ]
    }
   ],
   "source": [
    "num_rows, num_columns= df.shape\n",
    "print(f\"Numero de filas: {num_rows}\")\n",
    "print(f\"Numero de columnas: {num_columns}\")"
   ]
  },
  {
   "cell_type": "code",
   "execution_count": 132,
   "id": "59492842",
   "metadata": {},
   "outputs": [
    {
     "name": "stdout",
     "output_type": "stream",
     "text": [
      "0          6\n",
      "1          6\n",
      "2          8\n",
      "3          6\n",
      "4          6\n",
      "          ..\n",
      "541904    12\n",
      "541905     6\n",
      "541906     4\n",
      "541907     4\n",
      "541908     3\n",
      "Name: Quantity, Length: 541909, dtype: int64\n"
     ]
    }
   ],
   "source": [
    "daily_sales = df['Quantity']\n",
    "print(daily_sales)"
   ]
  },
  {
   "cell_type": "code",
   "execution_count": 133,
   "id": "1f50e5eb",
   "metadata": {},
   "outputs": [
    {
     "name": "stdout",
     "output_type": "stream",
     "text": [
      "            Quantity      UnitPrice     CustomerID\n",
      "count  541909.000000  541909.000000  406829.000000\n",
      "mean        9.552250       4.611114   15287.690570\n",
      "std       218.081158      96.759853    1713.600303\n",
      "min    -80995.000000  -11062.060000   12346.000000\n",
      "25%         1.000000       1.250000   13953.000000\n",
      "50%         3.000000       2.080000   15152.000000\n",
      "75%        10.000000       4.130000   16791.000000\n",
      "max     80995.000000   38970.000000   18287.000000\n"
     ]
    }
   ],
   "source": [
    "summary = df.describe()\n",
    "print(summary)"
   ]
  },
  {
   "cell_type": "code",
   "execution_count": 134,
   "id": "3bb41c7b",
   "metadata": {},
   "outputs": [
    {
     "name": "stdout",
     "output_type": "stream",
     "text": [
      "Mean: 9.55224954743324\n",
      "Median: 3.0\n",
      "Standard Deviation: 218.08115784986612\n",
      "Sum: 5176450\n"
     ]
    }
   ],
   "source": [
    "mean_value=daily_sales.mean()\n",
    "median_value=daily_sales.median()\n",
    "std_deviation=daily_sales.std()\n",
    "sum_value=daily_sales.sum()\n",
    "print(f\"Mean: {mean_value}\")\n",
    "print(f\"Median: {median_value}\")\n",
    "print(f\"Standard Deviation: {std_deviation}\")\n",
    "print(f\"Sum: {sum_value}\")"
   ]
  },
  {
   "cell_type": "code",
   "execution_count": 135,
   "id": "24c5c649",
   "metadata": {},
   "outputs": [
    {
     "name": "stdout",
     "output_type": "stream",
     "text": [
      "Count: 541909\n"
     ]
    }
   ],
   "source": [
    "count_values = daily_sales.count()\n",
    "print(f\"Count: {count_values}\")"
   ]
  },
  {
   "cell_type": "code",
   "execution_count": 136,
   "id": "05678827",
   "metadata": {},
   "outputs": [
    {
     "data": {
      "text/html": [
       "<div>\n",
       "<style scoped>\n",
       "    .dataframe tbody tr th:only-of-type {\n",
       "        vertical-align: middle;\n",
       "    }\n",
       "\n",
       "    .dataframe tbody tr th {\n",
       "        vertical-align: top;\n",
       "    }\n",
       "\n",
       "    .dataframe thead th {\n",
       "        text-align: right;\n",
       "    }\n",
       "</style>\n",
       "<table border=\"1\" class=\"dataframe\">\n",
       "  <thead>\n",
       "    <tr style=\"text-align: right;\">\n",
       "      <th></th>\n",
       "      <th>InvoiceNo</th>\n",
       "      <th>StockCode</th>\n",
       "      <th>Description</th>\n",
       "      <th>Quantity</th>\n",
       "      <th>InvoiceDate</th>\n",
       "      <th>UnitPrice</th>\n",
       "      <th>CustomerID</th>\n",
       "      <th>Country</th>\n",
       "    </tr>\n",
       "  </thead>\n",
       "  <tbody>\n",
       "    <tr>\n",
       "      <th>541899</th>\n",
       "      <td>581587</td>\n",
       "      <td>22726</td>\n",
       "      <td>ALARM CLOCK BAKELIKE GREEN</td>\n",
       "      <td>4</td>\n",
       "      <td>12/9/11 12:50</td>\n",
       "      <td>3.75</td>\n",
       "      <td>12680.0</td>\n",
       "      <td>France</td>\n",
       "    </tr>\n",
       "    <tr>\n",
       "      <th>541900</th>\n",
       "      <td>581587</td>\n",
       "      <td>22730</td>\n",
       "      <td>ALARM CLOCK BAKELIKE IVORY</td>\n",
       "      <td>4</td>\n",
       "      <td>12/9/11 12:50</td>\n",
       "      <td>3.75</td>\n",
       "      <td>12680.0</td>\n",
       "      <td>France</td>\n",
       "    </tr>\n",
       "    <tr>\n",
       "      <th>541901</th>\n",
       "      <td>581587</td>\n",
       "      <td>22367</td>\n",
       "      <td>CHILDRENS APRON SPACEBOY DESIGN</td>\n",
       "      <td>8</td>\n",
       "      <td>12/9/11 12:50</td>\n",
       "      <td>1.95</td>\n",
       "      <td>12680.0</td>\n",
       "      <td>France</td>\n",
       "    </tr>\n",
       "    <tr>\n",
       "      <th>541902</th>\n",
       "      <td>581587</td>\n",
       "      <td>22629</td>\n",
       "      <td>SPACEBOY LUNCH BOX</td>\n",
       "      <td>12</td>\n",
       "      <td>12/9/11 12:50</td>\n",
       "      <td>1.95</td>\n",
       "      <td>12680.0</td>\n",
       "      <td>France</td>\n",
       "    </tr>\n",
       "    <tr>\n",
       "      <th>541903</th>\n",
       "      <td>581587</td>\n",
       "      <td>23256</td>\n",
       "      <td>CHILDRENS CUTLERY SPACEBOY</td>\n",
       "      <td>4</td>\n",
       "      <td>12/9/11 12:50</td>\n",
       "      <td>4.15</td>\n",
       "      <td>12680.0</td>\n",
       "      <td>France</td>\n",
       "    </tr>\n",
       "    <tr>\n",
       "      <th>541904</th>\n",
       "      <td>581587</td>\n",
       "      <td>22613</td>\n",
       "      <td>PACK OF 20 SPACEBOY NAPKINS</td>\n",
       "      <td>12</td>\n",
       "      <td>12/9/11 12:50</td>\n",
       "      <td>0.85</td>\n",
       "      <td>12680.0</td>\n",
       "      <td>France</td>\n",
       "    </tr>\n",
       "    <tr>\n",
       "      <th>541905</th>\n",
       "      <td>581587</td>\n",
       "      <td>22899</td>\n",
       "      <td>CHILDREN'S APRON DOLLY GIRL</td>\n",
       "      <td>6</td>\n",
       "      <td>12/9/11 12:50</td>\n",
       "      <td>2.10</td>\n",
       "      <td>12680.0</td>\n",
       "      <td>France</td>\n",
       "    </tr>\n",
       "    <tr>\n",
       "      <th>541906</th>\n",
       "      <td>581587</td>\n",
       "      <td>23254</td>\n",
       "      <td>CHILDRENS CUTLERY DOLLY GIRL</td>\n",
       "      <td>4</td>\n",
       "      <td>12/9/11 12:50</td>\n",
       "      <td>4.15</td>\n",
       "      <td>12680.0</td>\n",
       "      <td>France</td>\n",
       "    </tr>\n",
       "    <tr>\n",
       "      <th>541907</th>\n",
       "      <td>581587</td>\n",
       "      <td>23255</td>\n",
       "      <td>CHILDRENS CUTLERY CIRCUS PARADE</td>\n",
       "      <td>4</td>\n",
       "      <td>12/9/11 12:50</td>\n",
       "      <td>4.15</td>\n",
       "      <td>12680.0</td>\n",
       "      <td>France</td>\n",
       "    </tr>\n",
       "    <tr>\n",
       "      <th>541908</th>\n",
       "      <td>581587</td>\n",
       "      <td>22138</td>\n",
       "      <td>BAKING SET 9 PIECE RETROSPOT</td>\n",
       "      <td>3</td>\n",
       "      <td>12/9/11 12:50</td>\n",
       "      <td>4.95</td>\n",
       "      <td>12680.0</td>\n",
       "      <td>France</td>\n",
       "    </tr>\n",
       "  </tbody>\n",
       "</table>\n",
       "</div>"
      ],
      "text/plain": [
       "       InvoiceNo StockCode                      Description  Quantity  \\\n",
       "541899    581587     22726       ALARM CLOCK BAKELIKE GREEN         4   \n",
       "541900    581587     22730       ALARM CLOCK BAKELIKE IVORY         4   \n",
       "541901    581587     22367  CHILDRENS APRON SPACEBOY DESIGN         8   \n",
       "541902    581587     22629              SPACEBOY LUNCH BOX         12   \n",
       "541903    581587     23256      CHILDRENS CUTLERY SPACEBOY          4   \n",
       "541904    581587     22613      PACK OF 20 SPACEBOY NAPKINS        12   \n",
       "541905    581587     22899     CHILDREN'S APRON DOLLY GIRL          6   \n",
       "541906    581587     23254    CHILDRENS CUTLERY DOLLY GIRL          4   \n",
       "541907    581587     23255  CHILDRENS CUTLERY CIRCUS PARADE         4   \n",
       "541908    581587     22138    BAKING SET 9 PIECE RETROSPOT          3   \n",
       "\n",
       "          InvoiceDate  UnitPrice  CustomerID Country  \n",
       "541899  12/9/11 12:50       3.75     12680.0  France  \n",
       "541900  12/9/11 12:50       3.75     12680.0  France  \n",
       "541901  12/9/11 12:50       1.95     12680.0  France  \n",
       "541902  12/9/11 12:50       1.95     12680.0  France  \n",
       "541903  12/9/11 12:50       4.15     12680.0  France  \n",
       "541904  12/9/11 12:50       0.85     12680.0  France  \n",
       "541905  12/9/11 12:50       2.10     12680.0  France  \n",
       "541906  12/9/11 12:50       4.15     12680.0  France  \n",
       "541907  12/9/11 12:50       4.15     12680.0  France  \n",
       "541908  12/9/11 12:50       4.95     12680.0  France  "
      ]
     },
     "execution_count": 136,
     "metadata": {},
     "output_type": "execute_result"
    }
   ],
   "source": [
    "df.tail(10)"
   ]
  },
  {
   "cell_type": "markdown",
   "id": "b1031e82",
   "metadata": {},
   "source": [
    "### iloc loc"
   ]
  },
  {
   "cell_type": "code",
   "execution_count": 137,
   "id": "6a0d5930",
   "metadata": {},
   "outputs": [
    {
     "name": "stdout",
     "output_type": "stream",
     "text": [
      "  InvoiceNo StockCode                          Description  Quantity  \\\n",
      "0    536365    85123A   WHITE HANGING HEART T-LIGHT HOLDER         6   \n",
      "1    536365     71053                  WHITE METAL LANTERN         6   \n",
      "2    536365    84406B       CREAM CUPID HEARTS COAT HANGER         8   \n",
      "3    536365    84029G  KNITTED UNION FLAG HOT WATER BOTTLE         6   \n",
      "4    536365    84029E       RED WOOLLY HOTTIE WHITE HEART.         6   \n",
      "\n",
      "    InvoiceDate  UnitPrice  CustomerID         Country  \n",
      "0  12/1/10 8:26       2.55     17850.0  United Kingdom  \n",
      "1  12/1/10 8:26       3.39     17850.0  United Kingdom  \n",
      "2  12/1/10 8:26       2.75     17850.0  United Kingdom  \n",
      "3  12/1/10 8:26       3.39     17850.0  United Kingdom  \n",
      "4  12/1/10 8:26       3.39     17850.0  United Kingdom  \n"
     ]
    }
   ],
   "source": [
    "firts_row = df.iloc[:5]# Access by position\n",
    "print(firts_row)"
   ]
  },
  {
   "cell_type": "code",
   "execution_count": 138,
   "id": "2cd74319",
   "metadata": {},
   "outputs": [
    {
     "name": "stdout",
     "output_type": "stream",
     "text": [
      "  InvoiceNo StockCode\n",
      "0    536365    85123A\n",
      "1    536365     71053\n",
      "2    536365    84406B\n"
     ]
    }
   ],
   "source": [
    "subset = df.iloc[:3, :2]# Access by position\n",
    "print(subset)"
   ]
  },
  {
   "cell_type": "code",
   "execution_count": 139,
   "id": "72b16e48",
   "metadata": {},
   "outputs": [
    {
     "name": "stdout",
     "output_type": "stream",
     "text": [
      "InvoiceNo                                   536365\n",
      "StockCode                                   84029G\n",
      "Description    KNITTED UNION FLAG HOT WATER BOTTLE\n",
      "Quantity                                         6\n",
      "InvoiceDate                           12/1/10 8:26\n",
      "UnitPrice                                     3.39\n",
      "CustomerID                                 17850.0\n",
      "Country                             United Kingdom\n",
      "Name: 3, dtype: object\n"
     ]
    }
   ],
   "source": [
    "#Seleccion de filar por loc \n",
    "row_index_3 = df.loc[3]\n",
    "print(row_index_3)# Access by label"
   ]
  },
  {
   "cell_type": "code",
   "execution_count": 140,
   "id": "d40b7d33",
   "metadata": {},
   "outputs": [
    {
     "name": "stdout",
     "output_type": "stream",
     "text": [
      "  InvoiceNo StockCode                          Description  Quantity  \\\n",
      "0    536365    85123A   WHITE HANGING HEART T-LIGHT HOLDER         6   \n",
      "1    536365     71053                  WHITE METAL LANTERN         6   \n",
      "2    536365    84406B       CREAM CUPID HEARTS COAT HANGER         8   \n",
      "3    536365    84029G  KNITTED UNION FLAG HOT WATER BOTTLE         6   \n",
      "4    536365    84029E       RED WOOLLY HOTTIE WHITE HEART.         6   \n",
      "\n",
      "    InvoiceDate  UnitPrice  CustomerID         Country  \n",
      "0  12/1/10 8:26       2.55     17850.0  United Kingdom  \n",
      "1  12/1/10 8:26       3.39     17850.0  United Kingdom  \n",
      "2  12/1/10 8:26       2.75     17850.0  United Kingdom  \n",
      "3  12/1/10 8:26       3.39     17850.0  United Kingdom  \n",
      "4  12/1/10 8:26       3.39     17850.0  United Kingdom  \n"
     ]
    }
   ],
   "source": [
    "row_index_4 = df.loc[0:4]\n",
    "print(row_index_4)"
   ]
  },
  {
   "cell_type": "code",
   "execution_count": 141,
   "id": "1653d910",
   "metadata": {},
   "outputs": [
    {
     "name": "stdout",
     "output_type": "stream",
     "text": [
      "0          6\n",
      "1          6\n",
      "2          8\n",
      "3          6\n",
      "4          6\n",
      "          ..\n",
      "541904    12\n",
      "541905     6\n",
      "541906     4\n",
      "541907     4\n",
      "541908     3\n",
      "Name: Quantity, Length: 541909, dtype: int64\n"
     ]
    }
   ],
   "source": [
    "quantiy_column = df.loc[:, 'Quantity']\n",
    "print(quantiy_column)"
   ]
  },
  {
   "cell_type": "code",
   "execution_count": 142,
   "id": "4e3f094a",
   "metadata": {},
   "outputs": [
    {
     "name": "stdout",
     "output_type": "stream",
     "text": [
      "0          6\n",
      "1          6\n",
      "2          8\n",
      "3          6\n",
      "4          6\n",
      "          ..\n",
      "541904    12\n",
      "541905     6\n",
      "541906     4\n",
      "541907     4\n",
      "541908     3\n",
      "Name: Quantity, Length: 541909, dtype: int64\n"
     ]
    }
   ],
   "source": [
    "quantity_column=df.loc[:, ['Quantity','UnitPrice']]\n",
    "print(quantiy_column)"
   ]
  },
  {
   "cell_type": "markdown",
   "id": "d394e8a1",
   "metadata": {},
   "source": [
    "### Datos faltantes"
   ]
  },
  {
   "cell_type": "code",
   "execution_count": 143,
   "id": "f3f3d71e",
   "metadata": {},
   "outputs": [
    {
     "name": "stdout",
     "output_type": "stream",
     "text": [
      "   InvoiceNo  StockCode  Description  Quantity  InvoiceDate  UnitPrice  \\\n",
      "0      False      False        False     False        False      False   \n",
      "1      False      False        False     False        False      False   \n",
      "2      False      False        False     False        False      False   \n",
      "3      False      False        False     False        False      False   \n",
      "4      False      False        False     False        False      False   \n",
      "\n",
      "   CustomerID  Country  \n",
      "0       False    False  \n",
      "1       False    False  \n",
      "2       False    False  \n",
      "3       False    False  \n",
      "4       False    False  \n"
     ]
    }
   ],
   "source": [
    "missing_data = df.isna() # Datos faltantes\n",
    "print(missing_data.head())"
   ]
  },
  {
   "cell_type": "code",
   "execution_count": 144,
   "id": "394830c1",
   "metadata": {},
   "outputs": [
    {
     "name": "stdout",
     "output_type": "stream",
     "text": [
      "Conteo de datos faltantes por columna:\n",
      " InvoiceNo           0\n",
      "StockCode           0\n",
      "Description      1454\n",
      "Quantity            0\n",
      "InvoiceDate         0\n",
      "UnitPrice           0\n",
      "CustomerID     135080\n",
      "Country             0\n",
      "dtype: int64\n"
     ]
    }
   ],
   "source": [
    "misssing_count = df.isna().sum() # Conteo de datos faltantes por columna\n",
    "print('Conteo de datos faltantes por columna:\\n', misssing_count)"
   ]
  },
  {
   "cell_type": "code",
   "execution_count": 145,
   "id": "9e59afa9",
   "metadata": {},
   "outputs": [
    {
     "name": "stdout",
     "output_type": "stream",
     "text": [
      "DataFrame sin filas con datos faltantes:\n",
      "   InvoiceNo StockCode                          Description  Quantity  \\\n",
      "0    536365    85123A   WHITE HANGING HEART T-LIGHT HOLDER         6   \n",
      "1    536365     71053                  WHITE METAL LANTERN         6   \n",
      "2    536365    84406B       CREAM CUPID HEARTS COAT HANGER         8   \n",
      "3    536365    84029G  KNITTED UNION FLAG HOT WATER BOTTLE         6   \n",
      "4    536365    84029E       RED WOOLLY HOTTIE WHITE HEART.         6   \n",
      "\n",
      "    InvoiceDate  UnitPrice  CustomerID         Country  \n",
      "0  12/1/10 8:26       2.55     17850.0  United Kingdom  \n",
      "1  12/1/10 8:26       3.39     17850.0  United Kingdom  \n",
      "2  12/1/10 8:26       2.75     17850.0  United Kingdom  \n",
      "3  12/1/10 8:26       3.39     17850.0  United Kingdom  \n",
      "4  12/1/10 8:26       3.39     17850.0  United Kingdom  \n"
     ]
    }
   ],
   "source": [
    "no_missing_rows = df.dropna() # Eliminar filas con datos faltantes\n",
    "print('DataFrame sin filas con datos faltantes:\\n', no_missing_rows.head())"
   ]
  },
  {
   "cell_type": "code",
   "execution_count": 146,
   "id": "4897f2b1",
   "metadata": {},
   "outputs": [
    {
     "name": "stdout",
     "output_type": "stream",
     "text": [
      "DataFrame sin columnas con datos faltantes:\n",
      "   InvoiceNo StockCode  Quantity   InvoiceDate  UnitPrice         Country\n",
      "0    536365    85123A         6  12/1/10 8:26       2.55  United Kingdom\n",
      "1    536365     71053         6  12/1/10 8:26       3.39  United Kingdom\n",
      "2    536365    84406B         8  12/1/10 8:26       2.75  United Kingdom\n",
      "3    536365    84029G         6  12/1/10 8:26       3.39  United Kingdom\n",
      "4    536365    84029E         6  12/1/10 8:26       3.39  United Kingdom\n"
     ]
    }
   ],
   "source": [
    "no_missing_columns = df.dropna(axis = 1)\n",
    "print('DataFrame sin columnas con datos faltantes:\\n', no_missing_columns.head())"
   ]
  },
  {
   "cell_type": "code",
   "execution_count": 147,
   "id": "349168f2",
   "metadata": {},
   "outputs": [
    {
     "name": "stdout",
     "output_type": "stream",
     "text": [
      "  InvoiceNo StockCode                          Description  Quantity  \\\n",
      "0    536365    85123A   WHITE HANGING HEART T-LIGHT HOLDER         6   \n",
      "1    536365     71053                  WHITE METAL LANTERN         6   \n",
      "2    536365    84406B       CREAM CUPID HEARTS COAT HANGER         8   \n",
      "3    536365    84029G  KNITTED UNION FLAG HOT WATER BOTTLE         6   \n",
      "4    536365    84029E       RED WOOLLY HOTTIE WHITE HEART.         6   \n",
      "\n",
      "    InvoiceDate  UnitPrice  CustomerID         Country  \n",
      "0  12/1/10 8:26       2.55     17850.0  United Kingdom  \n",
      "1  12/1/10 8:26       3.39     17850.0  United Kingdom  \n",
      "2  12/1/10 8:26       2.75     17850.0  United Kingdom  \n",
      "3  12/1/10 8:26       3.39     17850.0  United Kingdom  \n",
      "4  12/1/10 8:26       3.39     17850.0  United Kingdom  \n"
     ]
    }
   ],
   "source": [
    "retail_data_fill=df.fillna(0)\n",
    "print(retail_data_fill.head())"
   ]
  },
  {
   "cell_type": "code",
   "execution_count": 148,
   "id": "45972f11",
   "metadata": {},
   "outputs": [
    {
     "name": "stdout",
     "output_type": "stream",
     "text": [
      "InvoiceNo      0\n",
      "StockCode      0\n",
      "Description    0\n",
      "Quantity       0\n",
      "InvoiceDate    0\n",
      "UnitPrice      0\n",
      "CustomerID     0\n",
      "Country        0\n",
      "dtype: int64\n"
     ]
    }
   ],
   "source": [
    "retail_data_zero_count= retail_data_fill.isna().sum()\n",
    "print(retail_data_zero_count)"
   ]
  },
  {
   "cell_type": "code",
   "execution_count": 149,
   "id": "e32593a9",
   "metadata": {},
   "outputs": [
    {
     "name": "stdout",
     "output_type": "stream",
     "text": [
      "0         2.55\n",
      "1         3.39\n",
      "2         2.75\n",
      "3         3.39\n",
      "4         3.39\n",
      "          ... \n",
      "541904    0.85\n",
      "541905    2.10\n",
      "541906    4.15\n",
      "541907    4.15\n",
      "541908    4.95\n",
      "Name: UnitPrice, Length: 541909, dtype: float64\n"
     ]
    }
   ],
   "source": [
    "mean_unit_price = df['UnitPrice'].mean()\n",
    "retail_data_mean=df['UnitPrice'].fillna(mean_unit_price)\n",
    "print(retail_data_mean)    "
   ]
  },
  {
   "cell_type": "markdown",
   "id": "483cb018",
   "metadata": {},
   "source": [
    "## Manipulacion de columnas"
   ]
  },
  {
   "cell_type": "code",
   "execution_count": 150,
   "id": "dee1ba21",
   "metadata": {},
   "outputs": [
    {
     "name": "stdout",
     "output_type": "stream",
     "text": [
      "  InvoiceNo StockCode                          Description  Quantity  \\\n",
      "0    536365    85123A   WHITE HANGING HEART T-LIGHT HOLDER         6   \n",
      "1    536365     71053                  WHITE METAL LANTERN         6   \n",
      "2    536365    84406B       CREAM CUPID HEARTS COAT HANGER         8   \n",
      "3    536365    84029G  KNITTED UNION FLAG HOT WATER BOTTLE         6   \n",
      "4    536365    84029E       RED WOOLLY HOTTIE WHITE HEART.         6   \n",
      "\n",
      "    InvoiceDate  UnitPrice  CustomerID         Country  TotalPrice  \n",
      "0  12/1/10 8:26       2.55     17850.0  United Kingdom       15.30  \n",
      "1  12/1/10 8:26       3.39     17850.0  United Kingdom       20.34  \n",
      "2  12/1/10 8:26       2.75     17850.0  United Kingdom       22.00  \n",
      "3  12/1/10 8:26       3.39     17850.0  United Kingdom       20.34  \n",
      "4  12/1/10 8:26       3.39     17850.0  United Kingdom       20.34  \n"
     ]
    }
   ],
   "source": [
    "df['TotalPrice']= df['Quantity'] * df['UnitPrice']\n",
    "\n",
    "print(df.head())"
   ]
  },
  {
   "cell_type": "code",
   "execution_count": 151,
   "id": "9ce0e2c3",
   "metadata": {},
   "outputs": [
    {
     "name": "stdout",
     "output_type": "stream",
     "text": [
      "0     False\n",
      "1      True\n",
      "2      True\n",
      "3      True\n",
      "4      True\n",
      "5     False\n",
      "6      True\n",
      "7     False\n",
      "8     False\n",
      "9      True\n",
      "10    False\n",
      "11    False\n",
      "12     True\n",
      "13    False\n",
      "14     True\n",
      "Name: HighValue, dtype: bool\n"
     ]
    }
   ],
   "source": [
    "df['HighValue']= df['TotalPrice'] >16\n",
    "print(df['HighValue'].head(15))"
   ]
  },
  {
   "cell_type": "code",
   "execution_count": 152,
   "id": "7af2ab91",
   "metadata": {},
   "outputs": [
    {
     "name": "stdout",
     "output_type": "stream",
     "text": [
      "<class 'pandas.core.frame.DataFrame'>\n",
      "RangeIndex: 541909 entries, 0 to 541908\n",
      "Data columns (total 10 columns):\n",
      " #   Column       Non-Null Count   Dtype  \n",
      "---  ------       --------------   -----  \n",
      " 0   InvoiceNo    541909 non-null  object \n",
      " 1   StockCode    541909 non-null  object \n",
      " 2   Description  540455 non-null  object \n",
      " 3   Quantity     541909 non-null  int64  \n",
      " 4   InvoiceDate  541909 non-null  object \n",
      " 5   UnitPrice    541909 non-null  float64\n",
      " 6   CustomerID   406829 non-null  float64\n",
      " 7   Country      541909 non-null  object \n",
      " 8   TotalPrice   541909 non-null  float64\n",
      " 9   HighValue    541909 non-null  bool   \n",
      "dtypes: bool(1), float64(3), int64(1), object(5)\n",
      "memory usage: 37.7+ MB\n",
      "None\n"
     ]
    }
   ],
   "source": [
    "print(df.info())"
   ]
  },
  {
   "cell_type": "code",
   "execution_count": 153,
   "id": "60e2a500",
   "metadata": {},
   "outputs": [
    {
     "name": "stderr",
     "output_type": "stream",
     "text": [
      "/tmp/ipykernel_73313/2039505940.py:1: UserWarning: Could not infer format, so each element will be parsed individually, falling back to `dateutil`. To ensure parsing is consistent and as-expected, please specify a format.\n",
      "  df['InvoiceDate'] = pd.to_datetime(df['InvoiceDate'])\n"
     ]
    },
    {
     "name": "stdout",
     "output_type": "stream",
     "text": [
      "<class 'pandas.core.frame.DataFrame'>\n",
      "RangeIndex: 541909 entries, 0 to 541908\n",
      "Data columns (total 10 columns):\n",
      " #   Column       Non-Null Count   Dtype         \n",
      "---  ------       --------------   -----         \n",
      " 0   InvoiceNo    541909 non-null  object        \n",
      " 1   StockCode    541909 non-null  object        \n",
      " 2   Description  540455 non-null  object        \n",
      " 3   Quantity     541909 non-null  int64         \n",
      " 4   InvoiceDate  541909 non-null  datetime64[ns]\n",
      " 5   UnitPrice    541909 non-null  float64       \n",
      " 6   CustomerID   406829 non-null  float64       \n",
      " 7   Country      541909 non-null  object        \n",
      " 8   TotalPrice   541909 non-null  float64       \n",
      " 9   HighValue    541909 non-null  bool          \n",
      "dtypes: bool(1), datetime64[ns](1), float64(3), int64(1), object(4)\n",
      "memory usage: 37.7+ MB\n",
      "None\n"
     ]
    }
   ],
   "source": [
    "df['InvoiceDate'] = pd.to_datetime(df['InvoiceDate'])\n",
    "print(df.info())"
   ]
  },
  {
   "cell_type": "code",
   "execution_count": 154,
   "id": "ea8b7265",
   "metadata": {},
   "outputs": [
    {
     "name": "stdout",
     "output_type": "stream",
     "text": [
      "  InvoiceNo StockCode                         Description  Quantity  \\\n",
      "0    536365    85123A  WHITE HANGING HEART T-LIGHT HOLDER         6   \n",
      "1    536365     71053                 WHITE METAL LANTERN         6   \n",
      "2    536365    84406B      CREAM CUPID HEARTS COAT HANGER         8   \n",
      "\n",
      "          InvoiceDate  UnitPrice  CustomerID         Country  TotalPrice  \\\n",
      "0 2010-12-01 08:26:00       2.55     17850.0  United Kingdom       15.30   \n",
      "1 2010-12-01 08:26:00       3.39     17850.0  United Kingdom       20.34   \n",
      "2 2010-12-01 08:26:00       2.75     17850.0  United Kingdom       22.00   \n",
      "\n",
      "   HighValue  DiscountedPrice  \n",
      "0      False            2.295  \n",
      "1       True            3.051  \n",
      "2       True            2.475  \n"
     ]
    }
   ],
   "source": [
    "df['DiscountedPrice']= df['UnitPrice'].apply(lambda x: x * 0.9)\n",
    "print(df.head(3))"
   ]
  },
  {
   "cell_type": "code",
   "execution_count": 155,
   "id": "c229dfaa",
   "metadata": {},
   "outputs": [
    {
     "name": "stdout",
     "output_type": "stream",
     "text": [
      "  InvoiceNo StockCode                          Description  Quantity  \\\n",
      "0    536365    85123A   WHITE HANGING HEART T-LIGHT HOLDER         6   \n",
      "1    536365     71053                  WHITE METAL LANTERN         6   \n",
      "2    536365    84406B       CREAM CUPID HEARTS COAT HANGER         8   \n",
      "3    536365    84029G  KNITTED UNION FLAG HOT WATER BOTTLE         6   \n",
      "4    536365    84029E       RED WOOLLY HOTTIE WHITE HEART.         6   \n",
      "5    536365     22752         SET 7 BABUSHKA NESTING BOXES         2   \n",
      "6    536365     21730    GLASS STAR FROSTED T-LIGHT HOLDER         6   \n",
      "7    536366     22633               HAND WARMER UNION JACK         6   \n",
      "8    536366     22632            HAND WARMER RED POLKA DOT         6   \n",
      "9    536367     84879        ASSORTED COLOUR BIRD ORNAMENT        32   \n",
      "\n",
      "          InvoiceDate  UnitPrice  CustomerID         Country  TotalPrice  \\\n",
      "0 2010-12-01 08:26:00       2.55     17850.0  United Kingdom       15.30   \n",
      "1 2010-12-01 08:26:00       3.39     17850.0  United Kingdom       20.34   \n",
      "2 2010-12-01 08:26:00       2.75     17850.0  United Kingdom       22.00   \n",
      "3 2010-12-01 08:26:00       3.39     17850.0  United Kingdom       20.34   \n",
      "4 2010-12-01 08:26:00       3.39     17850.0  United Kingdom       20.34   \n",
      "5 2010-12-01 08:26:00       7.65     17850.0  United Kingdom       15.30   \n",
      "6 2010-12-01 08:26:00       4.25     17850.0  United Kingdom       25.50   \n",
      "7 2010-12-01 08:28:00       1.85     17850.0  United Kingdom       11.10   \n",
      "8 2010-12-01 08:28:00       1.85     17850.0  United Kingdom       11.10   \n",
      "9 2010-12-01 08:34:00       1.69     13047.0  United Kingdom       54.08   \n",
      "\n",
      "   HighValue  DiscountedPrice PriceCategory  \n",
      "0      False            2.295        Medium  \n",
      "1       True            3.051        Medium  \n",
      "2       True            2.475        Medium  \n",
      "3       True            3.051        Medium  \n",
      "4       True            3.051        Medium  \n",
      "5      False            6.885        Medium  \n",
      "6       True            3.825        Medium  \n",
      "7      False            1.665        Medium  \n",
      "8      False            1.665        Medium  \n",
      "9       True            1.521        Medium  \n"
     ]
    }
   ],
   "source": [
    "def categorize_price(price):\n",
    "    if price > 20:\n",
    "        return 'High'\n",
    "    elif price < 10:\n",
    "        return 'Medium'\n",
    "    else:\n",
    "        return 'Low'\n",
    "    \n",
    "\n",
    "df['PriceCategory']=df['UnitPrice'].apply(categorize_price)\n",
    "print(df.head(10))"
   ]
  },
  {
   "cell_type": "markdown",
   "id": "7a546e34",
   "metadata": {},
   "source": [
    "## Groupby\n",
    "\n",
    "El método **`groupby()`** en **pandas** se utiliza para **agrupar datos** según los valores de una o más columnas, permitiendo aplicar funciones de **agregación** (como suma, promedio, conteo, etc.) a cada grupo.  \n",
    "Por ejemplo, `df.groupby(\"Categoria\")[\"Ventas\"].sum()` calcula el total de ventas por categoría.  \n",
    "En resumen, `groupby()` sirve para analizar y resumir grandes conjuntos de datos agrupándolos por criterios comunes.\n"
   ]
  },
  {
   "cell_type": "code",
   "execution_count": 156,
   "id": "faffb6eb",
   "metadata": {},
   "outputs": [
    {
     "name": "stdout",
     "output_type": "stream",
     "text": [
      "Country\n",
      "United Kingdom          495478\n",
      "Germany                   9495\n",
      "France                    8557\n",
      "EIRE                      8196\n",
      "Spain                     2533\n",
      "Netherlands               2371\n",
      "Belgium                   2069\n",
      "Switzerland               2002\n",
      "Portugal                  1519\n",
      "Australia                 1259\n",
      "Norway                    1086\n",
      "Italy                      803\n",
      "Channel Islands            758\n",
      "Finland                    695\n",
      "Cyprus                     622\n",
      "Sweden                     462\n",
      "Unspecified                446\n",
      "Austria                    401\n",
      "Denmark                    389\n",
      "Japan                      358\n",
      "Poland                     341\n",
      "Israel                     297\n",
      "USA                        291\n",
      "Hong Kong                  288\n",
      "Singapore                  229\n",
      "Iceland                    182\n",
      "Canada                     151\n",
      "Greece                     146\n",
      "Malta                      127\n",
      "United Arab Emirates        68\n",
      "European Community          61\n",
      "RSA                         58\n",
      "Lebanon                     45\n",
      "Lithuania                   35\n",
      "Brazil                      32\n",
      "Czech Republic              30\n",
      "Bahrain                     19\n",
      "Saudi Arabia                10\n",
      "Name: count, dtype: int64\n"
     ]
    }
   ],
   "source": [
    "country_count = df['Country'].value_counts()\n",
    "print(country_count)"
   ]
  },
  {
   "cell_type": "code",
   "execution_count": 157,
   "id": "31ab777b",
   "metadata": {},
   "outputs": [
    {
     "name": "stdout",
     "output_type": "stream",
     "text": [
      "Country\n",
      "Australia                 83653\n",
      "Austria                    4827\n",
      "Bahrain                     260\n",
      "Belgium                   23152\n",
      "Brazil                      356\n",
      "Canada                     2763\n",
      "Channel Islands            9479\n",
      "Cyprus                     6317\n",
      "Czech Republic              592\n",
      "Denmark                    8188\n",
      "EIRE                     142637\n",
      "European Community          497\n",
      "Finland                   10666\n",
      "France                   110480\n",
      "Germany                  117448\n",
      "Greece                     1556\n",
      "Hong Kong                  4769\n",
      "Iceland                    2458\n",
      "Israel                     4353\n",
      "Italy                      7999\n",
      "Japan                     25218\n",
      "Lebanon                     386\n",
      "Lithuania                   652\n",
      "Malta                       944\n",
      "Netherlands              200128\n",
      "Norway                    19247\n",
      "Poland                     3653\n",
      "Portugal                  16180\n",
      "RSA                         352\n",
      "Saudi Arabia                 75\n",
      "Singapore                  5234\n",
      "Spain                     26824\n",
      "Sweden                    35637\n",
      "Switzerland               30325\n",
      "USA                        1034\n",
      "United Arab Emirates        982\n",
      "United Kingdom          4263829\n",
      "Unspecified                3300\n",
      "Name: Quantity, dtype: int64\n"
     ]
    }
   ],
   "source": [
    "country_group = df.groupby('Country')['Quantity'].sum()\n",
    "print(country_group)"
   ]
  },
  {
   "cell_type": "code",
   "execution_count": 158,
   "id": "fa88bc8d",
   "metadata": {},
   "outputs": [
    {
     "name": "stdout",
     "output_type": "stream",
     "text": [
      "                            mean          sum       max       min\n",
      "Country                                                          \n",
      "Australia               3.220612     4054.750    350.00      0.00\n",
      "Austria                 4.243192     1701.520     40.00      0.12\n",
      "Bahrain                 4.556316       86.570     12.75      1.25\n",
      "Belgium                 3.644335     7540.130     39.95      0.12\n",
      "Brazil                  4.456250      142.600     10.95      0.85\n",
      "Canada                  6.030331      910.580    550.94      0.10\n",
      "Channel Islands         4.932124     3738.550    293.00      0.19\n",
      "Cyprus                  6.302363     3920.070    320.69      0.12\n",
      "Czech Republic          2.938333       88.150     40.00      0.29\n",
      "Denmark                 3.256941     1266.950     18.00      0.21\n",
      "EIRE                    5.911077    48447.190   1917.00      0.00\n",
      "European Community      4.820492      294.050     18.00      0.55\n",
      "Finland                 5.448705     3786.850    275.60      0.12\n",
      "France                  5.028864    43031.990   4161.06      0.00\n",
      "Germany                 3.966930    37666.000    599.50      0.00\n",
      "Greece                  4.885548      713.290     50.00      0.14\n",
      "Hong Kong              42.505208    12241.500   2653.95      0.21\n",
      "Iceland                 2.644011      481.210     12.75      0.25\n",
      "Israel                  3.633131     1079.040    125.00      0.06\n",
      "Italy                   4.831121     3879.390    300.00      0.12\n",
      "Japan                   2.276145      814.860     45.57      0.21\n",
      "Lebanon                 5.387556      242.440     14.95      0.55\n",
      "Lithuania               2.841143       99.440      5.95      1.25\n",
      "Malta                   5.244173      666.010     65.00      0.19\n",
      "Netherlands             2.738317     6492.550    206.40      0.00\n",
      "Norway                  6.012026     6529.060    700.00      0.00\n",
      "Poland                  4.170880     1422.270     40.00      0.19\n",
      "Portugal                8.582976    13037.540   1241.98      0.12\n",
      "RSA                     4.277586      248.100     14.95      0.00\n",
      "Saudi Arabia            2.411000       24.110      5.49      0.42\n",
      "Singapore             109.645808    25108.890   3949.32      0.19\n",
      "Spain                   4.987544    12633.450   1715.85      0.00\n",
      "Sweden                  3.910887     1806.830     40.00      0.19\n",
      "Switzerland             3.403442     6813.690     40.00      0.00\n",
      "USA                     2.216426      644.980     16.95      0.42\n",
      "United Arab Emirates    3.380735      229.890     37.50      0.29\n",
      "United Kingdom          4.532422  2245715.474  38970.00 -11062.06\n",
      "Unspecified             2.699574     1204.010     16.95      0.19\n"
     ]
    }
   ],
   "source": [
    "country_stats = df.groupby('Country')['UnitPrice'].agg(['mean','sum','max','min'])\n",
    "print(country_stats)"
   ]
  },
  {
   "cell_type": "code",
   "execution_count": 159,
   "id": "98592592",
   "metadata": {},
   "outputs": [
    {
     "name": "stdout",
     "output_type": "stream",
     "text": [
      "Country      StockCode\n",
      "Australia    15036        600\n",
      "             15056BL        3\n",
      "             16161P       400\n",
      "             16169E        25\n",
      "             20665          6\n",
      "                         ... \n",
      "Unspecified  85180A         2\n",
      "             85180B         1\n",
      "             85212         12\n",
      "             85213         12\n",
      "             85227         10\n",
      "Name: Quantity, Length: 19839, dtype: int64\n"
     ]
    }
   ],
   "source": [
    "country_stock = df.groupby(['Country','StockCode'])['Quantity'].sum()\n",
    "print(country_stock)"
   ]
  },
  {
   "cell_type": "code",
   "execution_count": 160,
   "id": "3bb5d342",
   "metadata": {},
   "outputs": [
    {
     "name": "stdout",
     "output_type": "stream",
     "text": [
      "Country\n",
      "Australia                137077.270\n",
      "Austria                   10154.320\n",
      "Bahrain                     548.400\n",
      "Belgium                   40910.960\n",
      "Brazil                     1143.600\n",
      "Canada                     3666.380\n",
      "Channel Islands           20086.290\n",
      "Cyprus                    12946.290\n",
      "Czech Republic              707.720\n",
      "Denmark                   18768.140\n",
      "EIRE                     263276.820\n",
      "European Community         1291.750\n",
      "Finland                   22326.740\n",
      "France                   197403.900\n",
      "Germany                  221698.210\n",
      "Greece                     4710.520\n",
      "Hong Kong                 10117.040\n",
      "Iceland                    4310.000\n",
      "Israel                     7907.820\n",
      "Italy                     16890.510\n",
      "Japan                     35340.620\n",
      "Lebanon                    1693.880\n",
      "Lithuania                  1661.060\n",
      "Malta                      2505.470\n",
      "Netherlands              284661.540\n",
      "Norway                    35163.460\n",
      "Poland                     7213.140\n",
      "Portugal                  29367.020\n",
      "RSA                        1002.310\n",
      "Saudi Arabia                131.170\n",
      "Singapore                  9120.390\n",
      "Spain                     54774.580\n",
      "Sweden                    36595.910\n",
      "Switzerland               56385.350\n",
      "USA                        1730.920\n",
      "United Arab Emirates       1902.280\n",
      "United Kingdom          8187806.364\n",
      "Unspecified                4749.790\n",
      "dtype: float64\n"
     ]
    },
    {
     "name": "stderr",
     "output_type": "stream",
     "text": [
      "/tmp/ipykernel_73313/330303778.py:4: DeprecationWarning: DataFrameGroupBy.apply operated on the grouping columns. This behavior is deprecated, and in a future version of pandas the grouping columns will be excluded from the operation. Either pass `include_groups=False` to exclude the groupings or explicitly select the grouping columns after groupby to silence this warning.\n",
      "  revenue_per_country = df.groupby('Country').apply(total_revenue)\n"
     ]
    }
   ],
   "source": [
    "def total_revenue(group):\n",
    "    return (group['Quantity'] * group['UnitPrice']).sum()\n",
    "\n",
    "revenue_per_country = df.groupby('Country').apply(total_revenue)\n",
    "print(revenue_per_country)"
   ]
  },
  {
   "cell_type": "markdown",
   "id": "1210ac4b",
   "metadata": {},
   "source": [
    "## Filtrado de Datos"
   ]
  },
  {
   "cell_type": "code",
   "execution_count": 161,
   "id": "9954fe15",
   "metadata": {},
   "outputs": [
    {
     "name": "stdout",
     "output_type": "stream",
     "text": [
      "<class 'pandas.core.frame.DataFrame'>\n",
      "RangeIndex: 541909 entries, 0 to 541908\n",
      "Data columns (total 8 columns):\n",
      " #   Column       Non-Null Count   Dtype  \n",
      "---  ------       --------------   -----  \n",
      " 0   InvoiceNo    541909 non-null  object \n",
      " 1   StockCode    541909 non-null  object \n",
      " 2   Description  540455 non-null  object \n",
      " 3   Quantity     541909 non-null  int64  \n",
      " 4   InvoiceDate  541909 non-null  object \n",
      " 5   UnitPrice    541909 non-null  float64\n",
      " 6   CustomerID   406829 non-null  float64\n",
      " 7   Country      541909 non-null  object \n",
      "dtypes: float64(2), int64(1), object(5)\n",
      "memory usage: 33.1+ MB\n"
     ]
    }
   ],
   "source": [
    "sales_data =pd.read_csv(directory, encoding='latin1')\n",
    "\n",
    "sales_data.info()\n"
   ]
  },
  {
   "cell_type": "code",
   "execution_count": 162,
   "id": "0156d567",
   "metadata": {},
   "outputs": [
    {
     "name": "stderr",
     "output_type": "stream",
     "text": [
      "/tmp/ipykernel_73313/2142234749.py:1: UserWarning: Could not infer format, so each element will be parsed individually, falling back to `dateutil`. To ensure parsing is consistent and as-expected, please specify a format.\n",
      "  sales_data['InvoiceDate']=pd.to_datetime(sales_data['InvoiceDate'])\n"
     ]
    },
    {
     "name": "stdout",
     "output_type": "stream",
     "text": [
      "  InvoiceNo StockCode                          Description  Quantity  \\\n",
      "0    536365    85123A   WHITE HANGING HEART T-LIGHT HOLDER         6   \n",
      "1    536365     71053                  WHITE METAL LANTERN         6   \n",
      "2    536365    84406B       CREAM CUPID HEARTS COAT HANGER         8   \n",
      "3    536365    84029G  KNITTED UNION FLAG HOT WATER BOTTLE         6   \n",
      "4    536365    84029E       RED WOOLLY HOTTIE WHITE HEART.         6   \n",
      "\n",
      "          InvoiceDate  UnitPrice  CustomerID         Country  TotalPrice  \n",
      "0 2010-12-01 08:26:00       2.55     17850.0  United Kingdom       15.30  \n",
      "1 2010-12-01 08:26:00       3.39     17850.0  United Kingdom       20.34  \n",
      "2 2010-12-01 08:26:00       2.75     17850.0  United Kingdom       22.00  \n",
      "3 2010-12-01 08:26:00       3.39     17850.0  United Kingdom       20.34  \n",
      "4 2010-12-01 08:26:00       3.39     17850.0  United Kingdom       20.34  \n"
     ]
    }
   ],
   "source": [
    "sales_data['InvoiceDate']=pd.to_datetime(sales_data['InvoiceDate'])\n",
    "\n",
    "sales_data.dropna(subset=['CustomerID','InvoiceDate'],inplace=True)\n",
    "\n",
    "sales_data['TotalPrice']= sales_data['Quantity'] * sales_data['UnitPrice']\n",
    "print(sales_data.head())"
   ]
  },
  {
   "cell_type": "code",
   "execution_count": 163,
   "id": "2c922d68",
   "metadata": {},
   "outputs": [
    {
     "name": "stdout",
     "output_type": "stream",
     "text": [
      "<class 'pandas.core.frame.DataFrame'>\n",
      "Index: 406829 entries, 0 to 541908\n",
      "Data columns (total 9 columns):\n",
      " #   Column       Non-Null Count   Dtype         \n",
      "---  ------       --------------   -----         \n",
      " 0   InvoiceNo    406829 non-null  object        \n",
      " 1   StockCode    406829 non-null  object        \n",
      " 2   Description  406829 non-null  object        \n",
      " 3   Quantity     406829 non-null  int64         \n",
      " 4   InvoiceDate  406829 non-null  datetime64[ns]\n",
      " 5   UnitPrice    406829 non-null  float64       \n",
      " 6   CustomerID   406829 non-null  float64       \n",
      " 7   Country      406829 non-null  object        \n",
      " 8   TotalPrice   406829 non-null  float64       \n",
      "dtypes: datetime64[ns](1), float64(3), int64(1), object(4)\n",
      "memory usage: 31.0+ MB\n"
     ]
    }
   ],
   "source": [
    "sales_data.info()"
   ]
  },
  {
   "cell_type": "code",
   "execution_count": 164,
   "id": "111b2071",
   "metadata": {},
   "outputs": [
    {
     "name": "stdout",
     "output_type": "stream",
     "text": [
      "  InvoiceNo StockCode                          Description  Quantity  \\\n",
      "0    536365    85123A   WHITE HANGING HEART T-LIGHT HOLDER         6   \n",
      "1    536365     71053                  WHITE METAL LANTERN         6   \n",
      "2    536365    84406B       CREAM CUPID HEARTS COAT HANGER         8   \n",
      "3    536365    84029G  KNITTED UNION FLAG HOT WATER BOTTLE         6   \n",
      "4    536365    84029E       RED WOOLLY HOTTIE WHITE HEART.         6   \n",
      "\n",
      "          InvoiceDate  UnitPrice  CustomerID         Country  TotalPrice  \n",
      "0 2010-12-01 08:26:00       2.55     17850.0  United Kingdom       15.30  \n",
      "1 2010-12-01 08:26:00       3.39     17850.0  United Kingdom       20.34  \n",
      "2 2010-12-01 08:26:00       2.75     17850.0  United Kingdom       22.00  \n",
      "3 2010-12-01 08:26:00       3.39     17850.0  United Kingdom       20.34  \n",
      "4 2010-12-01 08:26:00       3.39     17850.0  United Kingdom       20.34  \n"
     ]
    }
   ],
   "source": [
    "# Filtrar Ventas en UK \n",
    "\n",
    "uk_sales = sales_data[sales_data['Country'] == 'United Kingdom']\n",
    "print(uk_sales.head())"
   ]
  },
  {
   "cell_type": "code",
   "execution_count": 165,
   "id": "de4b93b3",
   "metadata": {},
   "outputs": [
    {
     "name": "stdout",
     "output_type": "stream",
     "text": [
      "   InvoiceNo StockCode                        Description  Quantity  \\\n",
      "31    536370     10002        INFLATABLE POLITICAL GLOBE         48   \n",
      "46    536371     22086    PAPER CHAIN KIT 50'S CHRISTMAS         80   \n",
      "82    536376     22114  HOT WATER BOTTLE TEA AND SYMPATHY        48   \n",
      "83    536376     21733   RED HANGING HEART T-LIGHT HOLDER        64   \n",
      "96    536378     21212    PACK OF 72 RETROSPOT CAKE CASES       120   \n",
      "\n",
      "           InvoiceDate  UnitPrice  CustomerID         Country  TotalPrice  \n",
      "31 2010-12-01 08:45:00       0.85     12583.0          France        40.8  \n",
      "46 2010-12-01 09:00:00       2.55     13748.0  United Kingdom       204.0  \n",
      "82 2010-12-01 09:32:00       3.45     15291.0  United Kingdom       165.6  \n",
      "83 2010-12-01 09:32:00       2.55     15291.0  United Kingdom       163.2  \n",
      "96 2010-12-01 09:37:00       0.42     14688.0  United Kingdom        50.4  \n"
     ]
    }
   ],
   "source": [
    "high_quantity_sales = sales_data[sales_data['Quantity'] > 40]\n",
    "print(high_quantity_sales.head())"
   ]
  },
  {
   "cell_type": "code",
   "execution_count": 166,
   "id": "6306544f",
   "metadata": {},
   "outputs": [
    {
     "name": "stdout",
     "output_type": "stream",
     "text": [
      "       InvoiceNo StockCode                          Description  Quantity  \\\n",
      "46        536371     22086      PAPER CHAIN KIT 50'S CHRISTMAS         80   \n",
      "82        536376     22114    HOT WATER BOTTLE TEA AND SYMPATHY        48   \n",
      "83        536376     21733     RED HANGING HEART T-LIGHT HOLDER        64   \n",
      "96        536378     21212      PACK OF 72 RETROSPOT CAKE CASES       120   \n",
      "101       536378    85183B  CHARLIE & LOLA WASTEPAPER BIN FLORA        48   \n",
      "...          ...       ...                                  ...       ...   \n",
      "541746    581571     23167       SMALL CERAMIC TOP STORAGE JAR         96   \n",
      "541747    581571     21314        SMALL GLASS HEART TRINKET POT        48   \n",
      "541751    581572     23328   SET 6 SCHOOL MILK BOTTLES IN CRATE        48   \n",
      "541867    581584     20832     RED FLOCK LOVE HEART PHOTO FRAME        72   \n",
      "541868    581584     85038      6 CHOCOLATE LOVE HEART T-LIGHTS        48   \n",
      "\n",
      "               InvoiceDate  UnitPrice  CustomerID         Country  TotalPrice  \n",
      "46     2010-12-01 09:00:00       2.55     13748.0  United Kingdom      204.00  \n",
      "82     2010-12-01 09:32:00       3.45     15291.0  United Kingdom      165.60  \n",
      "83     2010-12-01 09:32:00       2.55     15291.0  United Kingdom      163.20  \n",
      "96     2010-12-01 09:37:00       0.42     14688.0  United Kingdom       50.40  \n",
      "101    2010-12-01 09:37:00       1.25     14688.0  United Kingdom       60.00  \n",
      "...                    ...        ...         ...             ...         ...  \n",
      "541746 2011-12-09 12:00:00       0.69     15311.0  United Kingdom       66.24  \n",
      "541747 2011-12-09 12:00:00       1.85     15311.0  United Kingdom       88.80  \n",
      "541751 2011-12-09 12:08:00       3.39     16705.0  United Kingdom      162.72  \n",
      "541867 2011-12-09 12:25:00       0.72     13777.0  United Kingdom       51.84  \n",
      "541868 2011-12-09 12:25:00       1.85     13777.0  United Kingdom       88.80  \n",
      "\n",
      "[14245 rows x 9 columns]\n"
     ]
    }
   ],
   "source": [
    "uk_high = sales_data[(sales_data['Country'] == 'United Kingdom') & (sales_data['Quantity'] > 40)]\n",
    "print(uk_high)"
   ]
  },
  {
   "cell_type": "code",
   "execution_count": 167,
   "id": "10bca60b",
   "metadata": {},
   "outputs": [
    {
     "name": "stdout",
     "output_type": "stream",
     "text": [
      "       InvoiceNo StockCode                      Description  Quantity  \\\n",
      "42481     539993     22386          JUMBO BAG PINK POLKADOT        10   \n",
      "42482     539993     21499               BLUE POLKADOT WRAP        25   \n",
      "42483     539993     21498              RED RETROSPOT WRAP         25   \n",
      "42484     539993     22379         RECYCLING BAG RETROSPOT          5   \n",
      "42485     539993     20718        RED RETROSPOT SHOPPER BAG        10   \n",
      "...          ...       ...                              ...       ...   \n",
      "541904    581587     22613      PACK OF 20 SPACEBOY NAPKINS        12   \n",
      "541905    581587     22899     CHILDREN'S APRON DOLLY GIRL          6   \n",
      "541906    581587     23254    CHILDRENS CUTLERY DOLLY GIRL          4   \n",
      "541907    581587     23255  CHILDRENS CUTLERY CIRCUS PARADE         4   \n",
      "541908    581587     22138    BAKING SET 9 PIECE RETROSPOT          3   \n",
      "\n",
      "               InvoiceDate  UnitPrice  CustomerID         Country  TotalPrice  \n",
      "42481  2011-01-04 10:00:00       1.95     13313.0  United Kingdom       19.50  \n",
      "42482  2011-01-04 10:00:00       0.42     13313.0  United Kingdom       10.50  \n",
      "42483  2011-01-04 10:00:00       0.42     13313.0  United Kingdom       10.50  \n",
      "42484  2011-01-04 10:00:00       2.10     13313.0  United Kingdom       10.50  \n",
      "42485  2011-01-04 10:00:00       1.25     13313.0  United Kingdom       12.50  \n",
      "...                    ...        ...         ...             ...         ...  \n",
      "541904 2011-12-09 12:50:00       0.85     12680.0          France       10.20  \n",
      "541905 2011-12-09 12:50:00       2.10     12680.0          France       12.60  \n",
      "541906 2011-12-09 12:50:00       4.15     12680.0          France       16.60  \n",
      "541907 2011-12-09 12:50:00       4.15     12680.0          France       16.60  \n",
      "541908 2011-12-09 12:50:00       4.95     12680.0          France       14.85  \n",
      "\n",
      "[379979 rows x 9 columns]\n"
     ]
    }
   ],
   "source": [
    "sales_2011 = sales_data[sales_data['InvoiceDate'].dt.year == 2011]\n",
    "print(sales_2011)"
   ]
  },
  {
   "cell_type": "code",
   "execution_count": 168,
   "id": "4e0f3847",
   "metadata": {},
   "outputs": [
    {
     "name": "stdout",
     "output_type": "stream",
     "text": [
      "       InvoiceNo StockCode                         Description  Quantity  \\\n",
      "516384   C579889     23245          SET OF 3 REGENCY CAKE TINS        -8   \n",
      "516385   C579890     84947   ANTIQUE SILVER TEA GLASS ENGRAVED        -1   \n",
      "516386   C579890     23374             RED SPOT PAPER GIFT BAG        -1   \n",
      "516387   C579890     84945  MULTI COLOUR SILVER T-LIGHT HOLDER        -2   \n",
      "516388   C579891     23485       BOTANICAL GARDENS WALL CLOCK         -1   \n",
      "...          ...       ...                                 ...       ...   \n",
      "541904    581587     22613         PACK OF 20 SPACEBOY NAPKINS        12   \n",
      "541905    581587     22899        CHILDREN'S APRON DOLLY GIRL          6   \n",
      "541906    581587     23254       CHILDRENS CUTLERY DOLLY GIRL          4   \n",
      "541907    581587     23255     CHILDRENS CUTLERY CIRCUS PARADE         4   \n",
      "541908    581587     22138       BAKING SET 9 PIECE RETROSPOT          3   \n",
      "\n",
      "               InvoiceDate  UnitPrice  CustomerID         Country  TotalPrice  \n",
      "516384 2011-12-01 08:12:00       4.15     13853.0  United Kingdom      -33.20  \n",
      "516385 2011-12-01 08:14:00       1.25     15197.0  United Kingdom       -1.25  \n",
      "516386 2011-12-01 08:14:00       0.82     15197.0  United Kingdom       -0.82  \n",
      "516387 2011-12-01 08:14:00       0.85     15197.0  United Kingdom       -1.70  \n",
      "516388 2011-12-01 08:18:00      25.00     13644.0  United Kingdom      -25.00  \n",
      "...                    ...        ...         ...             ...         ...  \n",
      "541904 2011-12-09 12:50:00       0.85     12680.0          France       10.20  \n",
      "541905 2011-12-09 12:50:00       2.10     12680.0          France       12.60  \n",
      "541906 2011-12-09 12:50:00       4.15     12680.0          France       16.60  \n",
      "541907 2011-12-09 12:50:00       4.15     12680.0          France       16.60  \n",
      "541908 2011-12-09 12:50:00       4.95     12680.0          France       14.85  \n",
      "\n",
      "[17661 rows x 9 columns]\n"
     ]
    }
   ],
   "source": [
    "sales_2011_dec = sales_data[(sales_data['InvoiceDate'].dt.year == 2011) & (sales_data['InvoiceDate'].dt.month == 12)]\n",
    "print(sales_2011_dec)\n"
   ]
  },
  {
   "cell_type": "markdown",
   "id": "7315169c",
   "metadata": {},
   "source": [
    "## Pivot Tables\n",
    "\n",
    "Las **Pivot Tables** en **pandas** se crean con el método `pivot_table()` y permiten **resumir, reorganizar y analizar datos** de forma flexible.  \n",
    "Funcionan como las tablas dinámicas de Excel, ya que pueden agrupar valores, calcular sumas, promedios u otras estadísticas, y mostrar los resultados en una estructura de tabla personalizada.\n"
   ]
  },
  {
   "cell_type": "code",
   "execution_count": 169,
   "id": "8e2a0545",
   "metadata": {},
   "outputs": [
    {
     "name": "stdout",
     "output_type": "stream",
     "text": [
      "StockCode             10002  10080  10120  10123C  10124A  10124G  10125  \\\n",
      "Country                                                                    \n",
      "Australia               NaN    NaN    NaN     NaN     NaN     NaN    NaN   \n",
      "Austria                 NaN    NaN    NaN     NaN     NaN     NaN    NaN   \n",
      "Bahrain                 NaN    NaN    NaN     NaN     NaN     NaN    NaN   \n",
      "Belgium                 NaN    NaN    NaN     NaN     NaN     NaN    NaN   \n",
      "Brazil                  NaN    NaN    NaN     NaN     NaN     NaN    NaN   \n",
      "Canada                  NaN    NaN    NaN     NaN     NaN     NaN    NaN   \n",
      "Channel Islands         NaN    NaN    NaN     NaN     NaN     NaN    NaN   \n",
      "Cyprus                  NaN    NaN    NaN     NaN     NaN     NaN    NaN   \n",
      "Czech Republic          NaN    NaN    NaN     NaN     NaN     NaN    NaN   \n",
      "Denmark                 NaN    NaN    NaN     NaN     NaN     NaN    NaN   \n",
      "EIRE                   12.0    NaN    NaN     NaN     NaN     NaN    NaN   \n",
      "European Community      NaN    NaN    NaN     NaN     NaN     NaN    NaN   \n",
      "Finland                 NaN    NaN    NaN     NaN     NaN     NaN    NaN   \n",
      "France                372.0    NaN   10.0     NaN     NaN     NaN  470.0   \n",
      "Germany                 1.0    NaN    NaN     NaN     NaN     NaN  120.0   \n",
      "Greece                  NaN    NaN    NaN     NaN     NaN     NaN    NaN   \n",
      "Iceland                 NaN    NaN    NaN     NaN     NaN     NaN    NaN   \n",
      "Israel                  NaN    NaN    NaN     NaN     NaN     NaN    NaN   \n",
      "Italy                   NaN    NaN    NaN     NaN     NaN     NaN    NaN   \n",
      "Japan                   1.0    NaN    NaN     NaN     NaN     NaN    NaN   \n",
      "Lebanon                 NaN    NaN    NaN     NaN     NaN     NaN    NaN   \n",
      "Lithuania               NaN    NaN    NaN     NaN     NaN     NaN    NaN   \n",
      "Malta                   NaN    NaN    NaN     NaN     NaN     NaN    NaN   \n",
      "Netherlands             NaN    NaN    NaN     NaN     NaN     NaN    NaN   \n",
      "Norway                  NaN    NaN    NaN     NaN     NaN     NaN    NaN   \n",
      "Poland                  NaN    NaN    NaN     NaN     NaN     NaN    NaN   \n",
      "Portugal                NaN    NaN    NaN     NaN     NaN     NaN    NaN   \n",
      "RSA                     NaN    NaN    NaN     NaN     NaN     NaN    NaN   \n",
      "Saudi Arabia            NaN    NaN    NaN     NaN     NaN     NaN    NaN   \n",
      "Singapore               NaN    NaN    NaN     NaN     NaN     NaN    NaN   \n",
      "Spain                  24.0    NaN    NaN     NaN     NaN     NaN    NaN   \n",
      "Sweden                  NaN    NaN    NaN     NaN     NaN     NaN    NaN   \n",
      "Switzerland            12.0    NaN    NaN     NaN     NaN     NaN   20.0   \n",
      "USA                     NaN    NaN    NaN     NaN     NaN     NaN    NaN   \n",
      "United Arab Emirates    NaN    NaN    NaN     NaN     NaN     NaN    NaN   \n",
      "United Kingdom        401.0  291.0  183.0     5.0    16.0    17.0  616.0   \n",
      "Unspecified             NaN    NaN    NaN     NaN     NaN     NaN    NaN   \n",
      "\n",
      "StockCode              10133   10135  11001  ...  90214Y  90214Z  \\\n",
      "Country                                      ...                   \n",
      "Australia                NaN     NaN    NaN  ...     NaN     NaN   \n",
      "Austria                  NaN     NaN    NaN  ...     NaN     NaN   \n",
      "Bahrain                  NaN     NaN    NaN  ...     NaN     NaN   \n",
      "Belgium                  NaN     NaN    NaN  ...     NaN     NaN   \n",
      "Brazil                   NaN     NaN    NaN  ...     NaN     NaN   \n",
      "Canada                  40.0    20.0    NaN  ...     NaN     NaN   \n",
      "Channel Islands          NaN     NaN    NaN  ...     NaN     NaN   \n",
      "Cyprus                   NaN     NaN    NaN  ...     NaN     NaN   \n",
      "Czech Republic           NaN     NaN    NaN  ...     NaN     NaN   \n",
      "Denmark                  NaN     NaN    NaN  ...     NaN     NaN   \n",
      "EIRE                    40.0    60.0   48.0  ...     NaN     NaN   \n",
      "European Community       NaN     NaN    NaN  ...     NaN     NaN   \n",
      "Finland                  NaN     NaN    NaN  ...     NaN     NaN   \n",
      "France                   NaN    10.0   16.0  ...     NaN     NaN   \n",
      "Germany                  NaN   200.0   32.0  ...     NaN     NaN   \n",
      "Greece                   NaN     NaN    NaN  ...     NaN     NaN   \n",
      "Iceland                  NaN     NaN    NaN  ...     NaN     NaN   \n",
      "Israel                  20.0     NaN    NaN  ...     NaN     NaN   \n",
      "Italy                    NaN     NaN    NaN  ...     NaN     NaN   \n",
      "Japan                    NaN     NaN    NaN  ...     NaN     NaN   \n",
      "Lebanon                  NaN     NaN    NaN  ...     NaN     NaN   \n",
      "Lithuania                NaN     NaN    NaN  ...     NaN     NaN   \n",
      "Malta                    NaN     NaN    NaN  ...     NaN     NaN   \n",
      "Netherlands              NaN     NaN    NaN  ...     NaN     NaN   \n",
      "Norway                   NaN    10.0   16.0  ...     NaN     NaN   \n",
      "Poland                   NaN     NaN    NaN  ...     NaN     NaN   \n",
      "Portugal                20.0     NaN   16.0  ...     NaN     NaN   \n",
      "RSA                      NaN     NaN    NaN  ...     NaN     NaN   \n",
      "Saudi Arabia             NaN     NaN    NaN  ...     NaN     NaN   \n",
      "Singapore                NaN     NaN    NaN  ...     NaN     NaN   \n",
      "Spain                    NaN     NaN   16.0  ...     NaN     NaN   \n",
      "Sweden                   NaN     NaN    NaN  ...     NaN     NaN   \n",
      "Switzerland             10.0     NaN    NaN  ...     NaN     NaN   \n",
      "USA                      NaN     NaN    NaN  ...     NaN     NaN   \n",
      "United Arab Emirates     NaN     NaN    NaN  ...     NaN     NaN   \n",
      "United Kingdom        2244.0  1637.0  923.0  ...    61.0    12.0   \n",
      "Unspecified              NaN     NaN    NaN  ...     NaN     NaN   \n",
      "\n",
      "StockCode             BANK CHARGES    C2  CRUK       D   DOT       M  PADS  \\\n",
      "Country                                                                      \n",
      "Australia                      NaN   NaN   NaN     NaN   NaN     NaN   NaN   \n",
      "Austria                        NaN   NaN   NaN     NaN   NaN     NaN   NaN   \n",
      "Bahrain                        NaN   NaN   NaN     NaN   NaN     NaN   NaN   \n",
      "Belgium                        NaN   NaN   NaN     NaN   NaN     NaN   NaN   \n",
      "Brazil                         NaN   NaN   NaN     NaN   NaN     NaN   NaN   \n",
      "Canada                         NaN   NaN   NaN     NaN   NaN     NaN   NaN   \n",
      "Channel Islands                NaN   3.0   NaN     NaN   NaN     0.0   NaN   \n",
      "Cyprus                         NaN   NaN   NaN     NaN   NaN     0.0   NaN   \n",
      "Czech Republic                 NaN   NaN   NaN     NaN   NaN     NaN   NaN   \n",
      "Denmark                        NaN   NaN   NaN     NaN   NaN     NaN   NaN   \n",
      "EIRE                           NaN  97.0   NaN    -1.0   NaN    -1.0   NaN   \n",
      "European Community             NaN   NaN   NaN     NaN   NaN     NaN   NaN   \n",
      "Finland                        NaN   NaN   NaN     NaN   NaN     2.0   NaN   \n",
      "France                         NaN   3.0   NaN     NaN   NaN   -16.0   NaN   \n",
      "Germany                        NaN   NaN   NaN     NaN   NaN     2.0   NaN   \n",
      "Greece                         NaN   NaN   NaN     NaN   NaN     NaN   NaN   \n",
      "Iceland                        NaN   NaN   NaN     NaN   NaN     NaN   NaN   \n",
      "Israel                         NaN   NaN   NaN     NaN   NaN     NaN   NaN   \n",
      "Italy                          NaN   NaN   NaN    -1.0   NaN    -1.0   NaN   \n",
      "Japan                          NaN   NaN   NaN     NaN   NaN    -3.0   NaN   \n",
      "Lebanon                        NaN   NaN   NaN     NaN   NaN     NaN   NaN   \n",
      "Lithuania                      NaN   NaN   NaN     NaN   NaN     NaN   NaN   \n",
      "Malta                          NaN   NaN   NaN     NaN   NaN     NaN   NaN   \n",
      "Netherlands                    NaN   NaN   NaN    -1.0   NaN  -480.0   NaN   \n",
      "Norway                         NaN   NaN   NaN     NaN   NaN     0.0   NaN   \n",
      "Poland                         NaN   NaN   NaN     NaN   NaN     NaN   NaN   \n",
      "Portugal                       NaN   NaN   NaN     NaN   NaN     1.0   NaN   \n",
      "RSA                            NaN   NaN   NaN     NaN   NaN     1.0   NaN   \n",
      "Saudi Arabia                   NaN   NaN   NaN     NaN   NaN     NaN   NaN   \n",
      "Singapore                      NaN   NaN   NaN     NaN   NaN     0.0   NaN   \n",
      "Spain                          NaN   NaN   NaN     NaN   NaN    -3.0   NaN   \n",
      "Sweden                         NaN   NaN   NaN     NaN   NaN     1.0   NaN   \n",
      "Switzerland                    NaN   NaN   NaN     NaN   NaN     NaN   NaN   \n",
      "USA                            NaN   NaN   NaN     NaN   NaN     NaN   NaN   \n",
      "United Arab Emirates           NaN   NaN   NaN     NaN   NaN     NaN   NaN   \n",
      "United Kingdom                12.0  30.0 -16.0 -1191.0  16.0  3681.0   4.0   \n",
      "Unspecified                    NaN   NaN   NaN     NaN   NaN     NaN   NaN   \n",
      "\n",
      "StockCode               POST  \n",
      "Country                       \n",
      "Australia                0.0  \n",
      "Austria                 37.0  \n",
      "Bahrain                  NaN  \n",
      "Belgium                272.0  \n",
      "Brazil                   NaN  \n",
      "Canada                   1.0  \n",
      "Channel Islands          NaN  \n",
      "Cyprus                   1.0  \n",
      "Czech Republic           0.0  \n",
      "Denmark                 41.0  \n",
      "EIRE                     NaN  \n",
      "European Community       9.0  \n",
      "Finland                 89.0  \n",
      "France                 803.0  \n",
      "Germany               1104.0  \n",
      "Greece                   6.0  \n",
      "Iceland                  NaN  \n",
      "Israel                   NaN  \n",
      "Italy                   44.0  \n",
      "Japan                    NaN  \n",
      "Lebanon                  NaN  \n",
      "Lithuania                NaN  \n",
      "Malta                   10.0  \n",
      "Netherlands             99.0  \n",
      "Norway                  57.0  \n",
      "Poland                   9.0  \n",
      "Portugal                97.0  \n",
      "RSA                      NaN  \n",
      "Saudi Arabia             NaN  \n",
      "Singapore                NaN  \n",
      "Spain                  209.0  \n",
      "Sweden                  37.0  \n",
      "Switzerland             97.0  \n",
      "USA                      NaN  \n",
      "United Arab Emirates     1.0  \n",
      "United Kingdom         -21.0  \n",
      "Unspecified              NaN  \n",
      "\n",
      "[37 rows x 3684 columns]\n"
     ]
    }
   ],
   "source": [
    "pivot_table = pd.pivot_table(sales_data, values ='Quantity',index ='Country',columns = 'StockCode',\n",
    "                             aggfunc='sum')\n",
    "\n",
    "print(pivot_table)"
   ]
  },
  {
   "cell_type": "code",
   "execution_count": 170,
   "id": "5adcc206",
   "metadata": {},
   "outputs": [
    {
     "name": "stdout",
     "output_type": "stream",
     "text": [
      "     A  B  C\n",
      "0  foo  1  4\n",
      "1  bar  2  5\n",
      "2  baz  3  6\n"
     ]
    }
   ],
   "source": [
    "df2 = pd.DataFrame({\n",
    "    'A': ['foo', 'bar', 'baz'],\n",
    "    'B': [1, 2, 3],\n",
    "    'C': [4, 5, 6]\n",
    "})\n",
    "\n",
    "print(df2)"
   ]
  },
  {
   "cell_type": "code",
   "execution_count": 171,
   "id": "d2928b61",
   "metadata": {},
   "outputs": [
    {
     "name": "stdout",
     "output_type": "stream",
     "text": [
      "0  A    foo\n",
      "   B      1\n",
      "   C      4\n",
      "1  A    bar\n",
      "   B      2\n",
      "   C      5\n",
      "2  A    baz\n",
      "   B      3\n",
      "   C      6\n",
      "dtype: object\n"
     ]
    }
   ],
   "source": [
    "df2_stac=df2.stack()#Apila las columnas en un solo nivel de índice\n",
    "print(df2_stac)"
   ]
  },
  {
   "cell_type": "code",
   "execution_count": 172,
   "id": "a3196711",
   "metadata": {},
   "outputs": [
    {
     "name": "stdout",
     "output_type": "stream",
     "text": [
      "     A  B  C\n",
      "0  foo  1  4\n",
      "1  bar  2  5\n",
      "2  baz  3  6\n"
     ]
    }
   ],
   "source": [
    "df_unstack=df2_stac.unstack()#Desapila el nivel de índice a columnas\n",
    "print(df_unstack)"
   ]
  },
  {
   "cell_type": "markdown",
   "id": "85e228f3",
   "metadata": {},
   "source": [
    "## Fusión de DataFrames\n",
    "\n",
    "En **pandas**, los métodos **`merge()`**, **`concat()`** y **`join()`** se utilizan para **combinar DataFrames**, pero de diferentes maneras:  \n",
    "- **`merge()`** funciona como las uniones en SQL, combinando DataFrames según una o más columnas clave comunes.  \n",
    "- **`concat()`** une DataFrames de forma **vertical u horizontal**, apilándolos uno debajo o al lado del otro.  \n",
    "- **`join()`** combina DataFrames basándose en sus **índices**, facilitando la unión cuando las claves están en el índice y no en las columnas.\n"
   ]
  },
  {
   "cell_type": "code",
   "execution_count": 173,
   "id": "0c2b5ab9",
   "metadata": {},
   "outputs": [
    {
     "name": "stdout",
     "output_type": "stream",
     "text": [
      "  key  value1\n",
      "0   A       1\n",
      "1   B       2\n",
      "2   C       3\n",
      "  key  value2\n",
      "0   B       4\n",
      "1   C       5\n",
      "2   D       6\n"
     ]
    }
   ],
   "source": [
    "# Ejercicios con merge()\n",
    "df1 = pd.DataFrame({\n",
    "  'key': ['A', 'B', 'C'],\n",
    "  'value1': [1,2,3]\n",
    "})\n",
    "\n",
    "df2 = pd.DataFrame({\n",
    "  'key': ['B', 'C', 'D'],\n",
    "  'value2': [4,5,6]\n",
    "})\n",
    "\n",
    "print(df1)\n",
    "print(df2)\n",
    "\n",
    "\n"
   ]
  },
  {
   "cell_type": "code",
   "execution_count": 174,
   "id": "435c9683",
   "metadata": {},
   "outputs": [
    {
     "name": "stdout",
     "output_type": "stream",
     "text": [
      "  key  value1  value2\n",
      "0   B       2       4\n",
      "1   C       3       5\n"
     ]
    }
   ],
   "source": [
    "ineer_merged = pd.merge(df1,df2,on='key',how='inner') #Union interna\n",
    "print(ineer_merged)"
   ]
  },
  {
   "cell_type": "code",
   "execution_count": 175,
   "id": "87a73491",
   "metadata": {},
   "outputs": [
    {
     "name": "stdout",
     "output_type": "stream",
     "text": [
      "  key  value1  value2\n",
      "0   A     1.0     NaN\n",
      "1   B     2.0     4.0\n",
      "2   C     3.0     5.0\n",
      "3   D     NaN     6.0\n"
     ]
    }
   ],
   "source": [
    "outer_merged = pd.merge(df1,df2,on='key',how='outer')# Unión externa\n",
    "print(outer_merged)"
   ]
  },
  {
   "cell_type": "code",
   "execution_count": 176,
   "id": "d7360761",
   "metadata": {},
   "outputs": [
    {
     "name": "stdout",
     "output_type": "stream",
     "text": [
      "  key  value1  value2\n",
      "0   A       1     NaN\n",
      "1   B       2     4.0\n",
      "2   C       3     5.0\n"
     ]
    }
   ],
   "source": [
    "left_merged = pd.merge(df1,df2,on='key',how='left')# Unión izquierda\n",
    "print(left_merged)"
   ]
  },
  {
   "cell_type": "code",
   "execution_count": 177,
   "id": "e75e633c",
   "metadata": {},
   "outputs": [
    {
     "name": "stdout",
     "output_type": "stream",
     "text": [
      "  key  value1  value2\n",
      "0   B     2.0       4\n",
      "1   C     3.0       5\n",
      "2   D     NaN       6\n"
     ]
    }
   ],
   "source": [
    "right_merged = pd.merge(df1,df2,on='key',how='right')# Unión izquierda\n",
    "print(right_merged)"
   ]
  },
  {
   "cell_type": "code",
   "execution_count": 178,
   "id": "5f65180c",
   "metadata": {},
   "outputs": [
    {
     "name": "stdout",
     "output_type": "stream",
     "text": [
      "    A   B\n",
      "0  A0  B0\n",
      "1  A1  B1\n",
      "2  A2  B2\n",
      "    A   B\n",
      "0  A3  B3\n",
      "1  A4  B4\n",
      "2  A5  B5\n"
     ]
    }
   ],
   "source": [
    "# Ejercicios con concat()\n",
    "df3 = pd.DataFrame({\n",
    "  'A': ['A0', 'A1', 'A2'],\n",
    "  'B': ['B0', 'B1', 'B2'],\n",
    "})\n",
    "\n",
    "df4 = pd.DataFrame({\n",
    "  'A': ['A3', 'A4', 'A5'],\n",
    "  'B': ['B3', 'B4', 'B5'],\n",
    "}) \n",
    "\n",
    "print(df3)\n",
    "print(df4)\n"
   ]
  },
  {
   "cell_type": "code",
   "execution_count": 179,
   "id": "a45bff40",
   "metadata": {},
   "outputs": [
    {
     "name": "stdout",
     "output_type": "stream",
     "text": [
      "    A   B\n",
      "0  A0  B0\n",
      "1  A1  B1\n",
      "2  A2  B2\n",
      "0  A3  B3\n",
      "1  A4  B4\n",
      "2  A5  B5\n"
     ]
    }
   ],
   "source": [
    "vertical_concat = pd.concat([df3,df4], axis=0) # Concatenación vertical\n",
    "print(vertical_concat)"
   ]
  },
  {
   "cell_type": "code",
   "execution_count": 180,
   "id": "15038c40",
   "metadata": {},
   "outputs": [
    {
     "name": "stdout",
     "output_type": "stream",
     "text": [
      "    A   B   A   B\n",
      "0  A0  B0  A3  B3\n",
      "1  A1  B1  A4  B4\n",
      "2  A2  B2  A5  B5\n"
     ]
    }
   ],
   "source": [
    "horizontal_concat = pd.concat([df3,df4], axis=1) # Concatenación vertical\n",
    "print(horizontal_concat)"
   ]
  },
  {
   "cell_type": "code",
   "execution_count": 181,
   "id": "6d3226ed",
   "metadata": {},
   "outputs": [
    {
     "name": "stdout",
     "output_type": "stream",
     "text": [
      "     A   B   C   D\n",
      "K0  A0  B0  C0  DO\n",
      "K2  A2  B2  C1  D1\n"
     ]
    }
   ],
   "source": [
    "\n",
    "# Ejercicios con join()\n",
    "df5 = pd.DataFrame({\n",
    "    'A': ['A0', 'A1', 'A2'],\n",
    "    'B': ['B0', 'B1', 'B2']\n",
    "  }, \n",
    "  index = ['K0', 'K1', 'K2']\n",
    ") \n",
    "\n",
    "df6 = pd.DataFrame({\n",
    "    'C': ['C0', 'C1', 'C2'],\n",
    "    'D': ['DO', 'D1', 'D2']\n",
    "  }, \n",
    "  index = ['K0', 'K2', 'K3']\n",
    ")\n",
    "\n",
    "joined_df = df5.join(df6, how='inner') # Unión interna basada en índices\n",
    "print(joined_df) "
   ]
  },
  {
   "cell_type": "markdown",
   "id": "67e22fc6",
   "metadata": {},
   "source": []
  },
  {
   "cell_type": "markdown",
   "id": "4a4ad824",
   "metadata": {},
   "source": [
    "## Hola"
   ]
  },
  {
   "cell_type": "code",
   "execution_count": 182,
   "id": "ce747cdb",
   "metadata": {},
   "outputs": [
    {
     "name": "stdout",
     "output_type": "stream",
     "text": [
      "  InvoiceNo StockCode                          Description  Quantity  \\\n",
      "0    536365    85123A   WHITE HANGING HEART T-LIGHT HOLDER         6   \n",
      "1    536365     71053                  WHITE METAL LANTERN         6   \n",
      "2    536365    84406B       CREAM CUPID HEARTS COAT HANGER         8   \n",
      "3    536365    84029G  KNITTED UNION FLAG HOT WATER BOTTLE         6   \n",
      "4    536365    84029E       RED WOOLLY HOTTIE WHITE HEART.         6   \n",
      "\n",
      "    InvoiceDate  UnitPrice  CustomerID         Country  \n",
      "0  12/1/10 8:26       2.55     17850.0  United Kingdom  \n",
      "1  12/1/10 8:26       3.39     17850.0  United Kingdom  \n",
      "2  12/1/10 8:26       2.75     17850.0  United Kingdom  \n",
      "3  12/1/10 8:26       3.39     17850.0  United Kingdom  \n",
      "4  12/1/10 8:26       3.39     17850.0  United Kingdom  \n",
      "<class 'pandas.core.frame.DataFrame'>\n",
      "RangeIndex: 541909 entries, 0 to 541908\n",
      "Data columns (total 8 columns):\n",
      " #   Column       Non-Null Count   Dtype  \n",
      "---  ------       --------------   -----  \n",
      " 0   InvoiceNo    541909 non-null  object \n",
      " 1   StockCode    541909 non-null  object \n",
      " 2   Description  540455 non-null  object \n",
      " 3   Quantity     541909 non-null  int64  \n",
      " 4   InvoiceDate  541909 non-null  object \n",
      " 5   UnitPrice    541909 non-null  float64\n",
      " 6   CustomerID   406829 non-null  float64\n",
      " 7   Country      541909 non-null  object \n",
      "dtypes: float64(2), int64(1), object(5)\n",
      "memory usage: 33.1+ MB\n"
     ]
    }
   ],
   "source": [
    "\n",
    "directory = \"/home/pinpa/Documents/programacion/platzi_course/data_manipulate_visualization/numpy_pandas/online-retail/Online_Retail.csv\"\n",
    "\n",
    "df = pd.read_csv(directory, encoding='latin1')\n",
    "print(df.head())\n",
    "df.info()"
   ]
  },
  {
   "cell_type": "code",
   "execution_count": 183,
   "id": "4813a214",
   "metadata": {},
   "outputs": [
    {
     "name": "stderr",
     "output_type": "stream",
     "text": [
      "/tmp/ipykernel_73313/1782028820.py:1: UserWarning: Could not infer format, so each element will be parsed individually, falling back to `dateutil`. To ensure parsing is consistent and as-expected, please specify a format.\n",
      "  df['InvoiceDate']= pd.to_datetime (df['InvoiceDate'])\n"
     ]
    },
    {
     "name": "stdout",
     "output_type": "stream",
     "text": [
      "<class 'pandas.core.frame.DataFrame'>\n",
      "RangeIndex: 541909 entries, 0 to 541908\n",
      "Data columns (total 8 columns):\n",
      " #   Column       Non-Null Count   Dtype         \n",
      "---  ------       --------------   -----         \n",
      " 0   InvoiceNo    541909 non-null  object        \n",
      " 1   StockCode    541909 non-null  object        \n",
      " 2   Description  540455 non-null  object        \n",
      " 3   Quantity     541909 non-null  int64         \n",
      " 4   InvoiceDate  541909 non-null  datetime64[ns]\n",
      " 5   UnitPrice    541909 non-null  float64       \n",
      " 6   CustomerID   406829 non-null  float64       \n",
      " 7   Country      541909 non-null  object        \n",
      "dtypes: datetime64[ns](1), float64(2), int64(1), object(4)\n",
      "memory usage: 33.1+ MB\n",
      "None\n"
     ]
    }
   ],
   "source": [
    "df['InvoiceDate']= pd.to_datetime (df['InvoiceDate'])\n",
    "print(df.info())"
   ]
  },
  {
   "cell_type": "code",
   "execution_count": 184,
   "id": "bda3cade",
   "metadata": {},
   "outputs": [],
   "source": [
    "df.dropna(subset=['InvoiceDate'], inplace = True)"
   ]
  },
  {
   "cell_type": "code",
   "execution_count": 185,
   "id": "9da7b86b",
   "metadata": {},
   "outputs": [],
   "source": [
    "df.set_index('InvoiceDate', inplace=True)\n"
   ]
  },
  {
   "cell_type": "code",
   "execution_count": 186,
   "id": "f3701f98",
   "metadata": {},
   "outputs": [
    {
     "data": {
      "text/html": [
       "<div>\n",
       "<style scoped>\n",
       "    .dataframe tbody tr th:only-of-type {\n",
       "        vertical-align: middle;\n",
       "    }\n",
       "\n",
       "    .dataframe tbody tr th {\n",
       "        vertical-align: top;\n",
       "    }\n",
       "\n",
       "    .dataframe thead th {\n",
       "        text-align: right;\n",
       "    }\n",
       "</style>\n",
       "<table border=\"1\" class=\"dataframe\">\n",
       "  <thead>\n",
       "    <tr style=\"text-align: right;\">\n",
       "      <th></th>\n",
       "      <th>InvoiceNo</th>\n",
       "      <th>StockCode</th>\n",
       "      <th>Description</th>\n",
       "      <th>Quantity</th>\n",
       "      <th>UnitPrice</th>\n",
       "      <th>CustomerID</th>\n",
       "      <th>Country</th>\n",
       "    </tr>\n",
       "    <tr>\n",
       "      <th>InvoiceDate</th>\n",
       "      <th></th>\n",
       "      <th></th>\n",
       "      <th></th>\n",
       "      <th></th>\n",
       "      <th></th>\n",
       "      <th></th>\n",
       "      <th></th>\n",
       "    </tr>\n",
       "  </thead>\n",
       "  <tbody>\n",
       "    <tr>\n",
       "      <th>2010-12-01 08:26:00</th>\n",
       "      <td>536365</td>\n",
       "      <td>85123A</td>\n",
       "      <td>WHITE HANGING HEART T-LIGHT HOLDER</td>\n",
       "      <td>6</td>\n",
       "      <td>2.55</td>\n",
       "      <td>17850.0</td>\n",
       "      <td>United Kingdom</td>\n",
       "    </tr>\n",
       "    <tr>\n",
       "      <th>2010-12-01 08:26:00</th>\n",
       "      <td>536365</td>\n",
       "      <td>71053</td>\n",
       "      <td>WHITE METAL LANTERN</td>\n",
       "      <td>6</td>\n",
       "      <td>3.39</td>\n",
       "      <td>17850.0</td>\n",
       "      <td>United Kingdom</td>\n",
       "    </tr>\n",
       "    <tr>\n",
       "      <th>2010-12-01 08:26:00</th>\n",
       "      <td>536365</td>\n",
       "      <td>84406B</td>\n",
       "      <td>CREAM CUPID HEARTS COAT HANGER</td>\n",
       "      <td>8</td>\n",
       "      <td>2.75</td>\n",
       "      <td>17850.0</td>\n",
       "      <td>United Kingdom</td>\n",
       "    </tr>\n",
       "    <tr>\n",
       "      <th>2010-12-01 08:26:00</th>\n",
       "      <td>536365</td>\n",
       "      <td>84029G</td>\n",
       "      <td>KNITTED UNION FLAG HOT WATER BOTTLE</td>\n",
       "      <td>6</td>\n",
       "      <td>3.39</td>\n",
       "      <td>17850.0</td>\n",
       "      <td>United Kingdom</td>\n",
       "    </tr>\n",
       "    <tr>\n",
       "      <th>2010-12-01 08:26:00</th>\n",
       "      <td>536365</td>\n",
       "      <td>84029E</td>\n",
       "      <td>RED WOOLLY HOTTIE WHITE HEART.</td>\n",
       "      <td>6</td>\n",
       "      <td>3.39</td>\n",
       "      <td>17850.0</td>\n",
       "      <td>United Kingdom</td>\n",
       "    </tr>\n",
       "    <tr>\n",
       "      <th>...</th>\n",
       "      <td>...</td>\n",
       "      <td>...</td>\n",
       "      <td>...</td>\n",
       "      <td>...</td>\n",
       "      <td>...</td>\n",
       "      <td>...</td>\n",
       "      <td>...</td>\n",
       "    </tr>\n",
       "    <tr>\n",
       "      <th>2011-12-09 12:50:00</th>\n",
       "      <td>581587</td>\n",
       "      <td>22613</td>\n",
       "      <td>PACK OF 20 SPACEBOY NAPKINS</td>\n",
       "      <td>12</td>\n",
       "      <td>0.85</td>\n",
       "      <td>12680.0</td>\n",
       "      <td>France</td>\n",
       "    </tr>\n",
       "    <tr>\n",
       "      <th>2011-12-09 12:50:00</th>\n",
       "      <td>581587</td>\n",
       "      <td>22899</td>\n",
       "      <td>CHILDREN'S APRON DOLLY GIRL</td>\n",
       "      <td>6</td>\n",
       "      <td>2.10</td>\n",
       "      <td>12680.0</td>\n",
       "      <td>France</td>\n",
       "    </tr>\n",
       "    <tr>\n",
       "      <th>2011-12-09 12:50:00</th>\n",
       "      <td>581587</td>\n",
       "      <td>23254</td>\n",
       "      <td>CHILDRENS CUTLERY DOLLY GIRL</td>\n",
       "      <td>4</td>\n",
       "      <td>4.15</td>\n",
       "      <td>12680.0</td>\n",
       "      <td>France</td>\n",
       "    </tr>\n",
       "    <tr>\n",
       "      <th>2011-12-09 12:50:00</th>\n",
       "      <td>581587</td>\n",
       "      <td>23255</td>\n",
       "      <td>CHILDRENS CUTLERY CIRCUS PARADE</td>\n",
       "      <td>4</td>\n",
       "      <td>4.15</td>\n",
       "      <td>12680.0</td>\n",
       "      <td>France</td>\n",
       "    </tr>\n",
       "    <tr>\n",
       "      <th>2011-12-09 12:50:00</th>\n",
       "      <td>581587</td>\n",
       "      <td>22138</td>\n",
       "      <td>BAKING SET 9 PIECE RETROSPOT</td>\n",
       "      <td>3</td>\n",
       "      <td>4.95</td>\n",
       "      <td>12680.0</td>\n",
       "      <td>France</td>\n",
       "    </tr>\n",
       "  </tbody>\n",
       "</table>\n",
       "<p>541909 rows × 7 columns</p>\n",
       "</div>"
      ],
      "text/plain": [
       "                    InvoiceNo StockCode                          Description  \\\n",
       "InvoiceDate                                                                    \n",
       "2010-12-01 08:26:00    536365    85123A   WHITE HANGING HEART T-LIGHT HOLDER   \n",
       "2010-12-01 08:26:00    536365     71053                  WHITE METAL LANTERN   \n",
       "2010-12-01 08:26:00    536365    84406B       CREAM CUPID HEARTS COAT HANGER   \n",
       "2010-12-01 08:26:00    536365    84029G  KNITTED UNION FLAG HOT WATER BOTTLE   \n",
       "2010-12-01 08:26:00    536365    84029E       RED WOOLLY HOTTIE WHITE HEART.   \n",
       "...                       ...       ...                                  ...   \n",
       "2011-12-09 12:50:00    581587     22613          PACK OF 20 SPACEBOY NAPKINS   \n",
       "2011-12-09 12:50:00    581587     22899         CHILDREN'S APRON DOLLY GIRL    \n",
       "2011-12-09 12:50:00    581587     23254        CHILDRENS CUTLERY DOLLY GIRL    \n",
       "2011-12-09 12:50:00    581587     23255      CHILDRENS CUTLERY CIRCUS PARADE   \n",
       "2011-12-09 12:50:00    581587     22138        BAKING SET 9 PIECE RETROSPOT    \n",
       "\n",
       "                     Quantity  UnitPrice  CustomerID         Country  \n",
       "InvoiceDate                                                           \n",
       "2010-12-01 08:26:00         6       2.55     17850.0  United Kingdom  \n",
       "2010-12-01 08:26:00         6       3.39     17850.0  United Kingdom  \n",
       "2010-12-01 08:26:00         8       2.75     17850.0  United Kingdom  \n",
       "2010-12-01 08:26:00         6       3.39     17850.0  United Kingdom  \n",
       "2010-12-01 08:26:00         6       3.39     17850.0  United Kingdom  \n",
       "...                       ...        ...         ...             ...  \n",
       "2011-12-09 12:50:00        12       0.85     12680.0          France  \n",
       "2011-12-09 12:50:00         6       2.10     12680.0          France  \n",
       "2011-12-09 12:50:00         4       4.15     12680.0          France  \n",
       "2011-12-09 12:50:00         4       4.15     12680.0          France  \n",
       "2011-12-09 12:50:00         3       4.95     12680.0          France  \n",
       "\n",
       "[541909 rows x 7 columns]"
      ]
     },
     "execution_count": 186,
     "metadata": {},
     "output_type": "execute_result"
    }
   ],
   "source": [
    "df"
   ]
  },
  {
   "cell_type": "code",
   "execution_count": 187,
   "id": "42f3873b",
   "metadata": {},
   "outputs": [
    {
     "name": "stdout",
     "output_type": "stream",
     "text": [
      "InvoiceDate\n",
      "2010-12-01 08:26:00    2010\n",
      "2010-12-01 08:26:00    2010\n",
      "2010-12-01 08:26:00    2010\n",
      "2010-12-01 08:26:00    2010\n",
      "2010-12-01 08:26:00    2010\n",
      "                       ... \n",
      "2011-12-09 12:50:00    2011\n",
      "2011-12-09 12:50:00    2011\n",
      "2011-12-09 12:50:00    2011\n",
      "2011-12-09 12:50:00    2011\n",
      "2011-12-09 12:50:00    2011\n",
      "Name: Year, Length: 541909, dtype: int32\n",
      "                    InvoiceNo StockCode                          Description  \\\n",
      "InvoiceDate                                                                    \n",
      "2010-12-01 08:26:00    536365    85123A   WHITE HANGING HEART T-LIGHT HOLDER   \n",
      "2010-12-01 08:26:00    536365     71053                  WHITE METAL LANTERN   \n",
      "2010-12-01 08:26:00    536365    84406B       CREAM CUPID HEARTS COAT HANGER   \n",
      "2010-12-01 08:26:00    536365    84029G  KNITTED UNION FLAG HOT WATER BOTTLE   \n",
      "2010-12-01 08:26:00    536365    84029E       RED WOOLLY HOTTIE WHITE HEART.   \n",
      "\n",
      "                     Quantity  UnitPrice  CustomerID         Country  Year  \\\n",
      "InvoiceDate                                                                  \n",
      "2010-12-01 08:26:00         6       2.55     17850.0  United Kingdom  2010   \n",
      "2010-12-01 08:26:00         6       3.39     17850.0  United Kingdom  2010   \n",
      "2010-12-01 08:26:00         8       2.75     17850.0  United Kingdom  2010   \n",
      "2010-12-01 08:26:00         6       3.39     17850.0  United Kingdom  2010   \n",
      "2010-12-01 08:26:00         6       3.39     17850.0  United Kingdom  2010   \n",
      "\n",
      "                     Month  Day  Hour  \n",
      "InvoiceDate                            \n",
      "2010-12-01 08:26:00     12    1     8  \n",
      "2010-12-01 08:26:00     12    1     8  \n",
      "2010-12-01 08:26:00     12    1     8  \n",
      "2010-12-01 08:26:00     12    1     8  \n",
      "2010-12-01 08:26:00     12    1     8  \n"
     ]
    }
   ],
   "source": [
    "df['Year']=df.index.year\n",
    "df['Month']=df.index.month\n",
    "df['Day']=df.index.day\n",
    "df['Hour']=df.index.hour\n",
    "print(df['Year'])\n",
    "print(df.head())"
   ]
  },
  {
   "cell_type": "code",
   "execution_count": 188,
   "id": "f04bccf2",
   "metadata": {},
   "outputs": [
    {
     "data": {
      "text/html": [
       "<div>\n",
       "<style scoped>\n",
       "    .dataframe tbody tr th:only-of-type {\n",
       "        vertical-align: middle;\n",
       "    }\n",
       "\n",
       "    .dataframe tbody tr th {\n",
       "        vertical-align: top;\n",
       "    }\n",
       "\n",
       "    .dataframe thead th {\n",
       "        text-align: right;\n",
       "    }\n",
       "</style>\n",
       "<table border=\"1\" class=\"dataframe\">\n",
       "  <thead>\n",
       "    <tr style=\"text-align: right;\">\n",
       "      <th></th>\n",
       "      <th>InvoiceNo</th>\n",
       "      <th>StockCode</th>\n",
       "      <th>Description</th>\n",
       "      <th>Quantity</th>\n",
       "      <th>UnitPrice</th>\n",
       "      <th>CustomerID</th>\n",
       "      <th>Country</th>\n",
       "      <th>Year</th>\n",
       "      <th>Month</th>\n",
       "      <th>Day</th>\n",
       "      <th>Hour</th>\n",
       "    </tr>\n",
       "    <tr>\n",
       "      <th>InvoiceDate</th>\n",
       "      <th></th>\n",
       "      <th></th>\n",
       "      <th></th>\n",
       "      <th></th>\n",
       "      <th></th>\n",
       "      <th></th>\n",
       "      <th></th>\n",
       "      <th></th>\n",
       "      <th></th>\n",
       "      <th></th>\n",
       "      <th></th>\n",
       "    </tr>\n",
       "  </thead>\n",
       "  <tbody>\n",
       "    <tr>\n",
       "      <th>2010-12-01 08:26:00</th>\n",
       "      <td>536365</td>\n",
       "      <td>85123A</td>\n",
       "      <td>WHITE HANGING HEART T-LIGHT HOLDER</td>\n",
       "      <td>6</td>\n",
       "      <td>2.55</td>\n",
       "      <td>17850.0</td>\n",
       "      <td>United Kingdom</td>\n",
       "      <td>2010</td>\n",
       "      <td>12</td>\n",
       "      <td>1</td>\n",
       "      <td>8</td>\n",
       "    </tr>\n",
       "    <tr>\n",
       "      <th>2010-12-01 08:26:00</th>\n",
       "      <td>536365</td>\n",
       "      <td>71053</td>\n",
       "      <td>WHITE METAL LANTERN</td>\n",
       "      <td>6</td>\n",
       "      <td>3.39</td>\n",
       "      <td>17850.0</td>\n",
       "      <td>United Kingdom</td>\n",
       "      <td>2010</td>\n",
       "      <td>12</td>\n",
       "      <td>1</td>\n",
       "      <td>8</td>\n",
       "    </tr>\n",
       "    <tr>\n",
       "      <th>2010-12-01 08:26:00</th>\n",
       "      <td>536365</td>\n",
       "      <td>84406B</td>\n",
       "      <td>CREAM CUPID HEARTS COAT HANGER</td>\n",
       "      <td>8</td>\n",
       "      <td>2.75</td>\n",
       "      <td>17850.0</td>\n",
       "      <td>United Kingdom</td>\n",
       "      <td>2010</td>\n",
       "      <td>12</td>\n",
       "      <td>1</td>\n",
       "      <td>8</td>\n",
       "    </tr>\n",
       "    <tr>\n",
       "      <th>2010-12-01 08:26:00</th>\n",
       "      <td>536365</td>\n",
       "      <td>84029G</td>\n",
       "      <td>KNITTED UNION FLAG HOT WATER BOTTLE</td>\n",
       "      <td>6</td>\n",
       "      <td>3.39</td>\n",
       "      <td>17850.0</td>\n",
       "      <td>United Kingdom</td>\n",
       "      <td>2010</td>\n",
       "      <td>12</td>\n",
       "      <td>1</td>\n",
       "      <td>8</td>\n",
       "    </tr>\n",
       "    <tr>\n",
       "      <th>2010-12-01 08:26:00</th>\n",
       "      <td>536365</td>\n",
       "      <td>84029E</td>\n",
       "      <td>RED WOOLLY HOTTIE WHITE HEART.</td>\n",
       "      <td>6</td>\n",
       "      <td>3.39</td>\n",
       "      <td>17850.0</td>\n",
       "      <td>United Kingdom</td>\n",
       "      <td>2010</td>\n",
       "      <td>12</td>\n",
       "      <td>1</td>\n",
       "      <td>8</td>\n",
       "    </tr>\n",
       "  </tbody>\n",
       "</table>\n",
       "</div>"
      ],
      "text/plain": [
       "                    InvoiceNo StockCode                          Description  \\\n",
       "InvoiceDate                                                                    \n",
       "2010-12-01 08:26:00    536365    85123A   WHITE HANGING HEART T-LIGHT HOLDER   \n",
       "2010-12-01 08:26:00    536365     71053                  WHITE METAL LANTERN   \n",
       "2010-12-01 08:26:00    536365    84406B       CREAM CUPID HEARTS COAT HANGER   \n",
       "2010-12-01 08:26:00    536365    84029G  KNITTED UNION FLAG HOT WATER BOTTLE   \n",
       "2010-12-01 08:26:00    536365    84029E       RED WOOLLY HOTTIE WHITE HEART.   \n",
       "\n",
       "                     Quantity  UnitPrice  CustomerID         Country  Year  \\\n",
       "InvoiceDate                                                                  \n",
       "2010-12-01 08:26:00         6       2.55     17850.0  United Kingdom  2010   \n",
       "2010-12-01 08:26:00         6       3.39     17850.0  United Kingdom  2010   \n",
       "2010-12-01 08:26:00         8       2.75     17850.0  United Kingdom  2010   \n",
       "2010-12-01 08:26:00         6       3.39     17850.0  United Kingdom  2010   \n",
       "2010-12-01 08:26:00         6       3.39     17850.0  United Kingdom  2010   \n",
       "\n",
       "                     Month  Day  Hour  \n",
       "InvoiceDate                            \n",
       "2010-12-01 08:26:00     12    1     8  \n",
       "2010-12-01 08:26:00     12    1     8  \n",
       "2010-12-01 08:26:00     12    1     8  \n",
       "2010-12-01 08:26:00     12    1     8  \n",
       "2010-12-01 08:26:00     12    1     8  "
      ]
     },
     "execution_count": 188,
     "metadata": {},
     "output_type": "execute_result"
    }
   ],
   "source": [
    "df.head()"
   ]
  },
  {
   "cell_type": "code",
   "execution_count": 189,
   "id": "e3bea07c",
   "metadata": {},
   "outputs": [
    {
     "name": "stdout",
     "output_type": "stream",
     "text": [
      "                    InvoiceNo StockCode                          Description  \\\n",
      "InvoiceDate                                                                    \n",
      "2010-12-01 08:26:00    536365    85123A   WHITE HANGING HEART T-LIGHT HOLDER   \n",
      "2010-12-01 08:26:00    536365     71053                  WHITE METAL LANTERN   \n",
      "2010-12-01 08:26:00    536365    84406B       CREAM CUPID HEARTS COAT HANGER   \n",
      "2010-12-01 08:26:00    536365    84029G  KNITTED UNION FLAG HOT WATER BOTTLE   \n",
      "2010-12-01 08:26:00    536365    84029E       RED WOOLLY HOTTIE WHITE HEART.   \n",
      "\n",
      "                     Quantity  UnitPrice  CustomerID         Country  Year  \\\n",
      "InvoiceDate                                                                  \n",
      "2010-12-01 08:26:00         6       2.55     17850.0  United Kingdom  2010   \n",
      "2010-12-01 08:26:00         6       3.39     17850.0  United Kingdom  2010   \n",
      "2010-12-01 08:26:00         8       2.75     17850.0  United Kingdom  2010   \n",
      "2010-12-01 08:26:00         6       3.39     17850.0  United Kingdom  2010   \n",
      "2010-12-01 08:26:00         6       3.39     17850.0  United Kingdom  2010   \n",
      "\n",
      "                     Month  Day  Hour  Weekday  \n",
      "InvoiceDate                                     \n",
      "2010-12-01 08:26:00     12    1     8        2  \n",
      "2010-12-01 08:26:00     12    1     8        2  \n",
      "2010-12-01 08:26:00     12    1     8        2  \n",
      "2010-12-01 08:26:00     12    1     8        2  \n",
      "2010-12-01 08:26:00     12    1     8        2  \n"
     ]
    }
   ],
   "source": [
    "df['Weekday']=df.index.weekday\n",
    "print(df.head())"
   ]
  },
  {
   "cell_type": "code",
   "execution_count": 190,
   "id": "79739772",
   "metadata": {},
   "outputs": [
    {
     "data": {
      "text/html": [
       "<div>\n",
       "<style scoped>\n",
       "    .dataframe tbody tr th:only-of-type {\n",
       "        vertical-align: middle;\n",
       "    }\n",
       "\n",
       "    .dataframe tbody tr th {\n",
       "        vertical-align: top;\n",
       "    }\n",
       "\n",
       "    .dataframe thead th {\n",
       "        text-align: right;\n",
       "    }\n",
       "</style>\n",
       "<table border=\"1\" class=\"dataframe\">\n",
       "  <thead>\n",
       "    <tr style=\"text-align: right;\">\n",
       "      <th></th>\n",
       "      <th>InvoiceNo</th>\n",
       "      <th>StockCode</th>\n",
       "      <th>Description</th>\n",
       "      <th>Quantity</th>\n",
       "      <th>UnitPrice</th>\n",
       "      <th>CustomerID</th>\n",
       "      <th>Country</th>\n",
       "      <th>Year</th>\n",
       "      <th>Month</th>\n",
       "      <th>Day</th>\n",
       "      <th>Hour</th>\n",
       "      <th>Weekday</th>\n",
       "    </tr>\n",
       "    <tr>\n",
       "      <th>InvoiceDate</th>\n",
       "      <th></th>\n",
       "      <th></th>\n",
       "      <th></th>\n",
       "      <th></th>\n",
       "      <th></th>\n",
       "      <th></th>\n",
       "      <th></th>\n",
       "      <th></th>\n",
       "      <th></th>\n",
       "      <th></th>\n",
       "      <th></th>\n",
       "      <th></th>\n",
       "    </tr>\n",
       "  </thead>\n",
       "  <tbody>\n",
       "    <tr>\n",
       "      <th>2011-01-04 10:00:00</th>\n",
       "      <td>539993</td>\n",
       "      <td>22386</td>\n",
       "      <td>JUMBO BAG PINK POLKADOT</td>\n",
       "      <td>10</td>\n",
       "      <td>1.95</td>\n",
       "      <td>13313.0</td>\n",
       "      <td>United Kingdom</td>\n",
       "      <td>2011</td>\n",
       "      <td>1</td>\n",
       "      <td>4</td>\n",
       "      <td>10</td>\n",
       "      <td>1</td>\n",
       "    </tr>\n",
       "    <tr>\n",
       "      <th>2011-01-04 10:00:00</th>\n",
       "      <td>539993</td>\n",
       "      <td>21499</td>\n",
       "      <td>BLUE POLKADOT WRAP</td>\n",
       "      <td>25</td>\n",
       "      <td>0.42</td>\n",
       "      <td>13313.0</td>\n",
       "      <td>United Kingdom</td>\n",
       "      <td>2011</td>\n",
       "      <td>1</td>\n",
       "      <td>4</td>\n",
       "      <td>10</td>\n",
       "      <td>1</td>\n",
       "    </tr>\n",
       "    <tr>\n",
       "      <th>2011-01-04 10:00:00</th>\n",
       "      <td>539993</td>\n",
       "      <td>21498</td>\n",
       "      <td>RED RETROSPOT WRAP</td>\n",
       "      <td>25</td>\n",
       "      <td>0.42</td>\n",
       "      <td>13313.0</td>\n",
       "      <td>United Kingdom</td>\n",
       "      <td>2011</td>\n",
       "      <td>1</td>\n",
       "      <td>4</td>\n",
       "      <td>10</td>\n",
       "      <td>1</td>\n",
       "    </tr>\n",
       "    <tr>\n",
       "      <th>2011-01-04 10:00:00</th>\n",
       "      <td>539993</td>\n",
       "      <td>22379</td>\n",
       "      <td>RECYCLING BAG RETROSPOT</td>\n",
       "      <td>5</td>\n",
       "      <td>2.10</td>\n",
       "      <td>13313.0</td>\n",
       "      <td>United Kingdom</td>\n",
       "      <td>2011</td>\n",
       "      <td>1</td>\n",
       "      <td>4</td>\n",
       "      <td>10</td>\n",
       "      <td>1</td>\n",
       "    </tr>\n",
       "    <tr>\n",
       "      <th>2011-01-04 10:00:00</th>\n",
       "      <td>539993</td>\n",
       "      <td>20718</td>\n",
       "      <td>RED RETROSPOT SHOPPER BAG</td>\n",
       "      <td>10</td>\n",
       "      <td>1.25</td>\n",
       "      <td>13313.0</td>\n",
       "      <td>United Kingdom</td>\n",
       "      <td>2011</td>\n",
       "      <td>1</td>\n",
       "      <td>4</td>\n",
       "      <td>10</td>\n",
       "      <td>1</td>\n",
       "    </tr>\n",
       "  </tbody>\n",
       "</table>\n",
       "</div>"
      ],
      "text/plain": [
       "                    InvoiceNo StockCode                Description  Quantity  \\\n",
       "InvoiceDate                                                                    \n",
       "2011-01-04 10:00:00    539993     22386    JUMBO BAG PINK POLKADOT        10   \n",
       "2011-01-04 10:00:00    539993     21499         BLUE POLKADOT WRAP        25   \n",
       "2011-01-04 10:00:00    539993     21498        RED RETROSPOT WRAP         25   \n",
       "2011-01-04 10:00:00    539993     22379   RECYCLING BAG RETROSPOT          5   \n",
       "2011-01-04 10:00:00    539993     20718  RED RETROSPOT SHOPPER BAG        10   \n",
       "\n",
       "                     UnitPrice  CustomerID         Country  Year  Month  Day  \\\n",
       "InvoiceDate                                                                    \n",
       "2011-01-04 10:00:00       1.95     13313.0  United Kingdom  2011      1    4   \n",
       "2011-01-04 10:00:00       0.42     13313.0  United Kingdom  2011      1    4   \n",
       "2011-01-04 10:00:00       0.42     13313.0  United Kingdom  2011      1    4   \n",
       "2011-01-04 10:00:00       2.10     13313.0  United Kingdom  2011      1    4   \n",
       "2011-01-04 10:00:00       1.25     13313.0  United Kingdom  2011      1    4   \n",
       "\n",
       "                     Hour  Weekday  \n",
       "InvoiceDate                         \n",
       "2011-01-04 10:00:00    10        1  \n",
       "2011-01-04 10:00:00    10        1  \n",
       "2011-01-04 10:00:00    10        1  \n",
       "2011-01-04 10:00:00    10        1  \n",
       "2011-01-04 10:00:00    10        1  "
      ]
     },
     "execution_count": 190,
     "metadata": {},
     "output_type": "execute_result"
    }
   ],
   "source": [
    "df_2011 = df.loc['2011']\n",
    "\n",
    "df_2011.head()"
   ]
  },
  {
   "cell_type": "code",
   "execution_count": 191,
   "id": "cf18b085",
   "metadata": {},
   "outputs": [
    {
     "data": {
      "text/html": [
       "<div>\n",
       "<style scoped>\n",
       "    .dataframe tbody tr th:only-of-type {\n",
       "        vertical-align: middle;\n",
       "    }\n",
       "\n",
       "    .dataframe tbody tr th {\n",
       "        vertical-align: top;\n",
       "    }\n",
       "\n",
       "    .dataframe thead th {\n",
       "        text-align: right;\n",
       "    }\n",
       "</style>\n",
       "<table border=\"1\" class=\"dataframe\">\n",
       "  <thead>\n",
       "    <tr style=\"text-align: right;\">\n",
       "      <th></th>\n",
       "      <th>InvoiceNo</th>\n",
       "      <th>StockCode</th>\n",
       "      <th>Description</th>\n",
       "      <th>Quantity</th>\n",
       "      <th>UnitPrice</th>\n",
       "      <th>CustomerID</th>\n",
       "      <th>Country</th>\n",
       "      <th>Year</th>\n",
       "      <th>Month</th>\n",
       "      <th>Day</th>\n",
       "      <th>Hour</th>\n",
       "      <th>Weekday</th>\n",
       "    </tr>\n",
       "    <tr>\n",
       "      <th>InvoiceDate</th>\n",
       "      <th></th>\n",
       "      <th></th>\n",
       "      <th></th>\n",
       "      <th></th>\n",
       "      <th></th>\n",
       "      <th></th>\n",
       "      <th></th>\n",
       "      <th></th>\n",
       "      <th></th>\n",
       "      <th></th>\n",
       "      <th></th>\n",
       "      <th></th>\n",
       "    </tr>\n",
       "  </thead>\n",
       "  <tbody>\n",
       "    <tr>\n",
       "      <th>2011-12-01 08:12:00</th>\n",
       "      <td>C579889</td>\n",
       "      <td>23245</td>\n",
       "      <td>SET OF 3 REGENCY CAKE TINS</td>\n",
       "      <td>-8</td>\n",
       "      <td>4.15</td>\n",
       "      <td>13853.0</td>\n",
       "      <td>United Kingdom</td>\n",
       "      <td>2011</td>\n",
       "      <td>12</td>\n",
       "      <td>1</td>\n",
       "      <td>8</td>\n",
       "      <td>3</td>\n",
       "    </tr>\n",
       "    <tr>\n",
       "      <th>2011-12-01 08:14:00</th>\n",
       "      <td>C579890</td>\n",
       "      <td>84947</td>\n",
       "      <td>ANTIQUE SILVER TEA GLASS ENGRAVED</td>\n",
       "      <td>-1</td>\n",
       "      <td>1.25</td>\n",
       "      <td>15197.0</td>\n",
       "      <td>United Kingdom</td>\n",
       "      <td>2011</td>\n",
       "      <td>12</td>\n",
       "      <td>1</td>\n",
       "      <td>8</td>\n",
       "      <td>3</td>\n",
       "    </tr>\n",
       "    <tr>\n",
       "      <th>2011-12-01 08:14:00</th>\n",
       "      <td>C579890</td>\n",
       "      <td>23374</td>\n",
       "      <td>RED SPOT PAPER GIFT BAG</td>\n",
       "      <td>-1</td>\n",
       "      <td>0.82</td>\n",
       "      <td>15197.0</td>\n",
       "      <td>United Kingdom</td>\n",
       "      <td>2011</td>\n",
       "      <td>12</td>\n",
       "      <td>1</td>\n",
       "      <td>8</td>\n",
       "      <td>3</td>\n",
       "    </tr>\n",
       "    <tr>\n",
       "      <th>2011-12-01 08:14:00</th>\n",
       "      <td>C579890</td>\n",
       "      <td>84945</td>\n",
       "      <td>MULTI COLOUR SILVER T-LIGHT HOLDER</td>\n",
       "      <td>-2</td>\n",
       "      <td>0.85</td>\n",
       "      <td>15197.0</td>\n",
       "      <td>United Kingdom</td>\n",
       "      <td>2011</td>\n",
       "      <td>12</td>\n",
       "      <td>1</td>\n",
       "      <td>8</td>\n",
       "      <td>3</td>\n",
       "    </tr>\n",
       "    <tr>\n",
       "      <th>2011-12-01 08:18:00</th>\n",
       "      <td>C579891</td>\n",
       "      <td>23485</td>\n",
       "      <td>BOTANICAL GARDENS WALL CLOCK</td>\n",
       "      <td>-1</td>\n",
       "      <td>25.00</td>\n",
       "      <td>13644.0</td>\n",
       "      <td>United Kingdom</td>\n",
       "      <td>2011</td>\n",
       "      <td>12</td>\n",
       "      <td>1</td>\n",
       "      <td>8</td>\n",
       "      <td>3</td>\n",
       "    </tr>\n",
       "  </tbody>\n",
       "</table>\n",
       "</div>"
      ],
      "text/plain": [
       "                    InvoiceNo StockCode                         Description  \\\n",
       "InvoiceDate                                                                   \n",
       "2011-12-01 08:12:00   C579889     23245          SET OF 3 REGENCY CAKE TINS   \n",
       "2011-12-01 08:14:00   C579890     84947   ANTIQUE SILVER TEA GLASS ENGRAVED   \n",
       "2011-12-01 08:14:00   C579890     23374             RED SPOT PAPER GIFT BAG   \n",
       "2011-12-01 08:14:00   C579890     84945  MULTI COLOUR SILVER T-LIGHT HOLDER   \n",
       "2011-12-01 08:18:00   C579891     23485       BOTANICAL GARDENS WALL CLOCK    \n",
       "\n",
       "                     Quantity  UnitPrice  CustomerID         Country  Year  \\\n",
       "InvoiceDate                                                                  \n",
       "2011-12-01 08:12:00        -8       4.15     13853.0  United Kingdom  2011   \n",
       "2011-12-01 08:14:00        -1       1.25     15197.0  United Kingdom  2011   \n",
       "2011-12-01 08:14:00        -1       0.82     15197.0  United Kingdom  2011   \n",
       "2011-12-01 08:14:00        -2       0.85     15197.0  United Kingdom  2011   \n",
       "2011-12-01 08:18:00        -1      25.00     13644.0  United Kingdom  2011   \n",
       "\n",
       "                     Month  Day  Hour  Weekday  \n",
       "InvoiceDate                                     \n",
       "2011-12-01 08:12:00     12    1     8        3  \n",
       "2011-12-01 08:14:00     12    1     8        3  \n",
       "2011-12-01 08:14:00     12    1     8        3  \n",
       "2011-12-01 08:14:00     12    1     8        3  \n",
       "2011-12-01 08:18:00     12    1     8        3  "
      ]
     },
     "execution_count": 191,
     "metadata": {},
     "output_type": "execute_result"
    }
   ],
   "source": [
    "df_2011_dec = df_2011.loc['2011-12']\n",
    "df_2011_dec.head()"
   ]
  },
  {
   "cell_type": "code",
   "execution_count": 192,
   "id": "d7968d93",
   "metadata": {},
   "outputs": [
    {
     "data": {
      "text/html": [
       "<div>\n",
       "<style scoped>\n",
       "    .dataframe tbody tr th:only-of-type {\n",
       "        vertical-align: middle;\n",
       "    }\n",
       "\n",
       "    .dataframe tbody tr th {\n",
       "        vertical-align: top;\n",
       "    }\n",
       "\n",
       "    .dataframe thead th {\n",
       "        text-align: right;\n",
       "    }\n",
       "</style>\n",
       "<table border=\"1\" class=\"dataframe\">\n",
       "  <thead>\n",
       "    <tr style=\"text-align: right;\">\n",
       "      <th></th>\n",
       "      <th>InvoiceNo</th>\n",
       "      <th>StockCode</th>\n",
       "      <th>Description</th>\n",
       "      <th>Quantity</th>\n",
       "      <th>UnitPrice</th>\n",
       "      <th>CustomerID</th>\n",
       "      <th>Country</th>\n",
       "      <th>Year</th>\n",
       "      <th>Month</th>\n",
       "      <th>Day</th>\n",
       "      <th>Hour</th>\n",
       "      <th>Weekday</th>\n",
       "    </tr>\n",
       "    <tr>\n",
       "      <th>InvoiceDate</th>\n",
       "      <th></th>\n",
       "      <th></th>\n",
       "      <th></th>\n",
       "      <th></th>\n",
       "      <th></th>\n",
       "      <th></th>\n",
       "      <th></th>\n",
       "      <th></th>\n",
       "      <th></th>\n",
       "      <th></th>\n",
       "      <th></th>\n",
       "      <th></th>\n",
       "    </tr>\n",
       "  </thead>\n",
       "  <tbody>\n",
       "    <tr>\n",
       "      <th>2011-12-01 08:12:00</th>\n",
       "      <td>C579889</td>\n",
       "      <td>23245</td>\n",
       "      <td>SET OF 3 REGENCY CAKE TINS</td>\n",
       "      <td>-8</td>\n",
       "      <td>4.15</td>\n",
       "      <td>13853.0</td>\n",
       "      <td>United Kingdom</td>\n",
       "      <td>2011</td>\n",
       "      <td>12</td>\n",
       "      <td>1</td>\n",
       "      <td>8</td>\n",
       "      <td>3</td>\n",
       "    </tr>\n",
       "    <tr>\n",
       "      <th>2011-12-01 08:14:00</th>\n",
       "      <td>C579890</td>\n",
       "      <td>84947</td>\n",
       "      <td>ANTIQUE SILVER TEA GLASS ENGRAVED</td>\n",
       "      <td>-1</td>\n",
       "      <td>1.25</td>\n",
       "      <td>15197.0</td>\n",
       "      <td>United Kingdom</td>\n",
       "      <td>2011</td>\n",
       "      <td>12</td>\n",
       "      <td>1</td>\n",
       "      <td>8</td>\n",
       "      <td>3</td>\n",
       "    </tr>\n",
       "    <tr>\n",
       "      <th>2011-12-01 08:14:00</th>\n",
       "      <td>C579890</td>\n",
       "      <td>23374</td>\n",
       "      <td>RED SPOT PAPER GIFT BAG</td>\n",
       "      <td>-1</td>\n",
       "      <td>0.82</td>\n",
       "      <td>15197.0</td>\n",
       "      <td>United Kingdom</td>\n",
       "      <td>2011</td>\n",
       "      <td>12</td>\n",
       "      <td>1</td>\n",
       "      <td>8</td>\n",
       "      <td>3</td>\n",
       "    </tr>\n",
       "    <tr>\n",
       "      <th>2011-12-01 08:14:00</th>\n",
       "      <td>C579890</td>\n",
       "      <td>84945</td>\n",
       "      <td>MULTI COLOUR SILVER T-LIGHT HOLDER</td>\n",
       "      <td>-2</td>\n",
       "      <td>0.85</td>\n",
       "      <td>15197.0</td>\n",
       "      <td>United Kingdom</td>\n",
       "      <td>2011</td>\n",
       "      <td>12</td>\n",
       "      <td>1</td>\n",
       "      <td>8</td>\n",
       "      <td>3</td>\n",
       "    </tr>\n",
       "    <tr>\n",
       "      <th>2011-12-01 08:18:00</th>\n",
       "      <td>C579891</td>\n",
       "      <td>23485</td>\n",
       "      <td>BOTANICAL GARDENS WALL CLOCK</td>\n",
       "      <td>-1</td>\n",
       "      <td>25.00</td>\n",
       "      <td>13644.0</td>\n",
       "      <td>United Kingdom</td>\n",
       "      <td>2011</td>\n",
       "      <td>12</td>\n",
       "      <td>1</td>\n",
       "      <td>8</td>\n",
       "      <td>3</td>\n",
       "    </tr>\n",
       "  </tbody>\n",
       "</table>\n",
       "</div>"
      ],
      "text/plain": [
       "                    InvoiceNo StockCode                         Description  \\\n",
       "InvoiceDate                                                                   \n",
       "2011-12-01 08:12:00   C579889     23245          SET OF 3 REGENCY CAKE TINS   \n",
       "2011-12-01 08:14:00   C579890     84947   ANTIQUE SILVER TEA GLASS ENGRAVED   \n",
       "2011-12-01 08:14:00   C579890     23374             RED SPOT PAPER GIFT BAG   \n",
       "2011-12-01 08:14:00   C579890     84945  MULTI COLOUR SILVER T-LIGHT HOLDER   \n",
       "2011-12-01 08:18:00   C579891     23485       BOTANICAL GARDENS WALL CLOCK    \n",
       "\n",
       "                     Quantity  UnitPrice  CustomerID         Country  Year  \\\n",
       "InvoiceDate                                                                  \n",
       "2011-12-01 08:12:00        -8       4.15     13853.0  United Kingdom  2011   \n",
       "2011-12-01 08:14:00        -1       1.25     15197.0  United Kingdom  2011   \n",
       "2011-12-01 08:14:00        -1       0.82     15197.0  United Kingdom  2011   \n",
       "2011-12-01 08:14:00        -2       0.85     15197.0  United Kingdom  2011   \n",
       "2011-12-01 08:18:00        -1      25.00     13644.0  United Kingdom  2011   \n",
       "\n",
       "                     Month  Day  Hour  Weekday  \n",
       "InvoiceDate                                     \n",
       "2011-12-01 08:12:00     12    1     8        3  \n",
       "2011-12-01 08:14:00     12    1     8        3  \n",
       "2011-12-01 08:14:00     12    1     8        3  \n",
       "2011-12-01 08:14:00     12    1     8        3  \n",
       "2011-12-01 08:18:00     12    1     8        3  "
      ]
     },
     "execution_count": 192,
     "metadata": {},
     "output_type": "execute_result"
    }
   ],
   "source": [
    "df_dec_range = df.loc['2011-12-01':'2011-12-15']\n",
    "df_dec_range.head()"
   ]
  },
  {
   "cell_type": "code",
   "execution_count": 193,
   "id": "b23706cf",
   "metadata": {},
   "outputs": [
    {
     "data": {
      "text/plain": [
       "DatetimeIndex(['2011-12-01', '2011-12-02', '2011-12-03', '2011-12-04',\n",
       "               '2011-12-05', '2011-12-06', '2011-12-07', '2011-12-08',\n",
       "               '2011-12-09', '2011-12-10', '2011-12-11', '2011-12-12',\n",
       "               '2011-12-13', '2011-12-14', '2011-12-15'],\n",
       "              dtype='datetime64[ns]', freq='D')"
      ]
     },
     "execution_count": 193,
     "metadata": {},
     "output_type": "execute_result"
    }
   ],
   "source": [
    "date_range_new = pd.date_range(start='2011-12-01', end='2011-12-15',freq='D')\n",
    "date_range_new"
   ]
  },
  {
   "cell_type": "code",
   "execution_count": 194,
   "id": "ccebdb03",
   "metadata": {},
   "outputs": [
    {
     "data": {
      "text/html": [
       "<div>\n",
       "<style scoped>\n",
       "    .dataframe tbody tr th:only-of-type {\n",
       "        vertical-align: middle;\n",
       "    }\n",
       "\n",
       "    .dataframe tbody tr th {\n",
       "        vertical-align: top;\n",
       "    }\n",
       "\n",
       "    .dataframe thead th {\n",
       "        text-align: right;\n",
       "    }\n",
       "</style>\n",
       "<table border=\"1\" class=\"dataframe\">\n",
       "  <thead>\n",
       "    <tr style=\"text-align: right;\">\n",
       "      <th></th>\n",
       "      <th>Date</th>\n",
       "    </tr>\n",
       "  </thead>\n",
       "  <tbody>\n",
       "    <tr>\n",
       "      <th>0</th>\n",
       "      <td>2011-12-01</td>\n",
       "    </tr>\n",
       "    <tr>\n",
       "      <th>1</th>\n",
       "      <td>2011-12-02</td>\n",
       "    </tr>\n",
       "    <tr>\n",
       "      <th>2</th>\n",
       "      <td>2011-12-03</td>\n",
       "    </tr>\n",
       "    <tr>\n",
       "      <th>3</th>\n",
       "      <td>2011-12-04</td>\n",
       "    </tr>\n",
       "    <tr>\n",
       "      <th>4</th>\n",
       "      <td>2011-12-05</td>\n",
       "    </tr>\n",
       "    <tr>\n",
       "      <th>5</th>\n",
       "      <td>2011-12-06</td>\n",
       "    </tr>\n",
       "    <tr>\n",
       "      <th>6</th>\n",
       "      <td>2011-12-07</td>\n",
       "    </tr>\n",
       "    <tr>\n",
       "      <th>7</th>\n",
       "      <td>2011-12-08</td>\n",
       "    </tr>\n",
       "    <tr>\n",
       "      <th>8</th>\n",
       "      <td>2011-12-09</td>\n",
       "    </tr>\n",
       "    <tr>\n",
       "      <th>9</th>\n",
       "      <td>2011-12-10</td>\n",
       "    </tr>\n",
       "    <tr>\n",
       "      <th>10</th>\n",
       "      <td>2011-12-11</td>\n",
       "    </tr>\n",
       "    <tr>\n",
       "      <th>11</th>\n",
       "      <td>2011-12-12</td>\n",
       "    </tr>\n",
       "    <tr>\n",
       "      <th>12</th>\n",
       "      <td>2011-12-13</td>\n",
       "    </tr>\n",
       "    <tr>\n",
       "      <th>13</th>\n",
       "      <td>2011-12-14</td>\n",
       "    </tr>\n",
       "    <tr>\n",
       "      <th>14</th>\n",
       "      <td>2011-12-15</td>\n",
       "    </tr>\n",
       "  </tbody>\n",
       "</table>\n",
       "</div>"
      ],
      "text/plain": [
       "         Date\n",
       "0  2011-12-01\n",
       "1  2011-12-02\n",
       "2  2011-12-03\n",
       "3  2011-12-04\n",
       "4  2011-12-05\n",
       "5  2011-12-06\n",
       "6  2011-12-07\n",
       "7  2011-12-08\n",
       "8  2011-12-09\n",
       "9  2011-12-10\n",
       "10 2011-12-11\n",
       "11 2011-12-12\n",
       "12 2011-12-13\n",
       "13 2011-12-14\n",
       "14 2011-12-15"
      ]
     },
     "execution_count": 194,
     "metadata": {},
     "output_type": "execute_result"
    }
   ],
   "source": [
    "df_Date = pd.DataFrame(date_range_new, columns=['Date'])\n",
    "df_Date"
   ]
  }
 ],
 "metadata": {
  "kernelspec": {
   "display_name": "base",
   "language": "python",
   "name": "python3"
  },
  "language_info": {
   "codemirror_mode": {
    "name": "ipython",
    "version": 3
   },
   "file_extension": ".py",
   "mimetype": "text/x-python",
   "name": "python",
   "nbconvert_exporter": "python",
   "pygments_lexer": "ipython3",
   "version": "3.12.7"
  }
 },
 "nbformat": 4,
 "nbformat_minor": 5
}
