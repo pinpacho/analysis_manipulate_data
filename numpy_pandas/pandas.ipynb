{
 "cells": [
  {
   "cell_type": "markdown",
   "id": "b14bcfac",
   "metadata": {},
   "source": [
    "# Pandas : Dataset"
   ]
  },
  {
   "cell_type": "markdown",
   "id": "b3690749",
   "metadata": {},
   "source": []
  },
  {
   "cell_type": "markdown",
   "id": "b9391981",
   "metadata": {},
   "source": [
    "## Create DataFrames from data structures"
   ]
  },
  {
   "cell_type": "code",
   "execution_count": null,
   "id": "b06f4d72",
   "metadata": {},
   "outputs": [
    {
     "name": "stdout",
     "output_type": "stream",
     "text": [
      "   A  B  C\n",
      "0  1  2  3\n",
      "1  4  5  6\n",
      "2  7  8  9\n"
     ]
    }
   ],
   "source": [
    "import numpy as np\n",
    "import pandas as pd\n",
    "\n",
    "data = np.array([[1, 2, 3], [4, 5, 6], [7, 8, 9]])\n",
    "\n",
    "dt_from_array = pd.DataFrame(data,columns=['A','B','C'])\n",
    "print(dt_from_array)"
   ]
  },
  {
   "cell_type": "code",
   "execution_count": null,
   "id": "b89b3d1f",
   "metadata": {},
   "outputs": [
    {
     "name": "stdout",
     "output_type": "stream",
     "text": [
      "   ID   Name  Age\n",
      "0   1   Jhon   22\n",
      "1   2  Marry   33\n",
      "2   3  Peter   44\n"
     ]
    }
   ],
   "source": [
    "data2 = [[1,'Jhon',22],[2,'Marry',33],[3,'Peter',44]]\n",
    "\n",
    "df_from_list = pd.DataFrame(data2,columns=['ID','Name','Age'])\n",
    "print(df_from_list)"
   ]
  },
  {
   "cell_type": "code",
   "execution_count": null,
   "id": "4ec77ff5",
   "metadata": {},
   "outputs": [
    {
     "name": "stdout",
     "output_type": "stream",
     "text": [
      "   ID   Name  Age\n",
      "0   1   Jhon   22\n",
      "1   2  Marry   33\n",
      "2   3  Peter   44\n"
     ]
    }
   ],
   "source": [
    "data = [{'ID':1,'Name':'Jhon','Age':22},\n",
    "        {'ID':2,'Name':'Marry','Age':33},\n",
    "        {'ID':3,'Name':'Peter','Age':44}]\n",
    "\n",
    "df_from_dict = pd.DataFrame(data)\n",
    "print(df_from_dict)"
   ]
  },
  {
   "cell_type": "code",
   "execution_count": null,
   "id": "3b9a8ef5",
   "metadata": {},
   "outputs": [
    {
     "name": "stdout",
     "output_type": "stream",
     "text": [
      "   ID   Name  Age\n",
      "0   1   Jhon   22\n",
      "1   2  Marry   33\n",
      "2   3  Peter   44\n"
     ]
    }
   ],
   "source": [
    "data = {'ID':pd.Series([1,2,3]),\n",
    "        'Name':pd.Series(['Jhon','Marry','Peter']),\n",
    "        'Age':pd.Series([22,33,44])}\n",
    "\n",
    "\n",
    "df_from_series= pd.DataFrame(data)\n",
    "print(df_from_series)"
   ]
  },
  {
   "cell_type": "markdown",
   "id": "d1fee40a",
   "metadata": {},
   "source": [
    "## Retail Data"
   ]
  },
  {
   "cell_type": "code",
   "execution_count": 1,
   "id": "2195360a",
   "metadata": {},
   "outputs": [
    {
     "name": "stdout",
     "output_type": "stream",
     "text": [
      "Dataset descargado en: /home/pinpa/.cache/kagglehub/datasets/tunguz/online-retail/versions/1\n",
      "Archivos copiados a: /home/pinpa/Documents/programacion/platzi_course/data_manipulate_visualization/numpy_pandas/online-retail\n"
     ]
    }
   ],
   "source": [
    "import kagglehub\n",
    "import shutil\n",
    "import os\n",
    "\n",
    "# Descargar la última versión del dataset\n",
    "path = kagglehub.dataset_download(\"tunguz/online-retail\")\n",
    "\n",
    "print(\"Dataset descargado en:\", path)\n",
    "\n",
    "# Obtener la carpeta actual\n",
    "current_dir = os.getcwd()\n",
    "\n",
    "# Crear una carpeta destino dentro del directorio actual\n",
    "dest_dir = os.path.join(current_dir, \"online-retail\")\n",
    "os.makedirs(dest_dir, exist_ok=True)\n",
    "\n",
    "# Copiar los archivos descargados a la carpeta actual\n",
    "for file_name in os.listdir(path):\n",
    "    full_file_name = os.path.join(path, file_name)\n",
    "    if os.path.isfile(full_file_name):\n",
    "        shutil.copy(full_file_name, dest_dir)\n",
    "\n",
    "print(f\"Archivos copiados a: {dest_dir}\")\n"
   ]
  },
  {
   "cell_type": "code",
   "execution_count": 2,
   "id": "b68509e6",
   "metadata": {},
   "outputs": [
    {
     "name": "stdout",
     "output_type": "stream",
     "text": [
      "  InvoiceNo StockCode                          Description  Quantity  \\\n",
      "0    536365    85123A   WHITE HANGING HEART T-LIGHT HOLDER         6   \n",
      "1    536365     71053                  WHITE METAL LANTERN         6   \n",
      "2    536365    84406B       CREAM CUPID HEARTS COAT HANGER         8   \n",
      "3    536365    84029G  KNITTED UNION FLAG HOT WATER BOTTLE         6   \n",
      "4    536365    84029E       RED WOOLLY HOTTIE WHITE HEART.         6   \n",
      "\n",
      "    InvoiceDate  UnitPrice  CustomerID         Country  \n",
      "0  12/1/10 8:26       2.55     17850.0  United Kingdom  \n",
      "1  12/1/10 8:26       3.39     17850.0  United Kingdom  \n",
      "2  12/1/10 8:26       2.75     17850.0  United Kingdom  \n",
      "3  12/1/10 8:26       3.39     17850.0  United Kingdom  \n",
      "4  12/1/10 8:26       3.39     17850.0  United Kingdom  \n",
      "Type Dataframe:\n",
      "<class 'pandas.core.frame.DataFrame'>\n"
     ]
    }
   ],
   "source": [
    "import pandas as pd \n",
    "\n",
    "directory = \"/home/pinpa/Documents/programacion/platzi_course/data_manipulate_visualization/numpy_pandas/online-retail/Online_Retail.csv\"\n",
    "\n",
    "df = pd.read_csv(directory, encoding='latin1')\n",
    "print(df.head())\n",
    "\n",
    "print(\"Type Dataframe:\")\n",
    "print(type(df))"
   ]
  },
  {
   "cell_type": "code",
   "execution_count": 3,
   "id": "0ed1656a",
   "metadata": {},
   "outputs": [
    {
     "name": "stdout",
     "output_type": "stream",
     "text": [
      "Index(['InvoiceNo', 'StockCode', 'Description', 'Quantity', 'InvoiceDate',\n",
      "       'UnitPrice', 'CustomerID', 'Country'],\n",
      "      dtype='object')\n"
     ]
    }
   ],
   "source": [
    "#Nombres de columnas\n",
    "columnas_names= df.columns\n",
    "print(columnas_names)"
   ]
  },
  {
   "cell_type": "code",
   "execution_count": 4,
   "id": "f40858c3",
   "metadata": {},
   "outputs": [
    {
     "name": "stdout",
     "output_type": "stream",
     "text": [
      "Numero de filas: 541909\n",
      "Numero de columnas: 8\n"
     ]
    }
   ],
   "source": [
    "num_rows, num_columns= df.shape\n",
    "print(f\"Numero de filas: {num_rows}\")\n",
    "print(f\"Numero de columnas: {num_columns}\")"
   ]
  },
  {
   "cell_type": "code",
   "execution_count": 5,
   "id": "59492842",
   "metadata": {},
   "outputs": [
    {
     "name": "stdout",
     "output_type": "stream",
     "text": [
      "0          6\n",
      "1          6\n",
      "2          8\n",
      "3          6\n",
      "4          6\n",
      "          ..\n",
      "541904    12\n",
      "541905     6\n",
      "541906     4\n",
      "541907     4\n",
      "541908     3\n",
      "Name: Quantity, Length: 541909, dtype: int64\n"
     ]
    }
   ],
   "source": [
    "daily_sales = df['Quantity']\n",
    "print(daily_sales)"
   ]
  },
  {
   "cell_type": "code",
   "execution_count": 6,
   "id": "1f50e5eb",
   "metadata": {},
   "outputs": [
    {
     "name": "stdout",
     "output_type": "stream",
     "text": [
      "            Quantity      UnitPrice     CustomerID\n",
      "count  541909.000000  541909.000000  406829.000000\n",
      "mean        9.552250       4.611114   15287.690570\n",
      "std       218.081158      96.759853    1713.600303\n",
      "min    -80995.000000  -11062.060000   12346.000000\n",
      "25%         1.000000       1.250000   13953.000000\n",
      "50%         3.000000       2.080000   15152.000000\n",
      "75%        10.000000       4.130000   16791.000000\n",
      "max     80995.000000   38970.000000   18287.000000\n"
     ]
    }
   ],
   "source": [
    "summary = df.describe()\n",
    "print(summary)"
   ]
  },
  {
   "cell_type": "code",
   "execution_count": 7,
   "id": "3bb41c7b",
   "metadata": {},
   "outputs": [
    {
     "name": "stdout",
     "output_type": "stream",
     "text": [
      "Mean: 9.55224954743324\n",
      "Median: 3.0\n",
      "Standard Deviation: 218.08115784986612\n",
      "Sum: 5176450\n"
     ]
    }
   ],
   "source": [
    "mean_value=daily_sales.mean()\n",
    "median_value=daily_sales.median()\n",
    "std_deviation=daily_sales.std()\n",
    "sum_value=daily_sales.sum()\n",
    "print(f\"Mean: {mean_value}\")\n",
    "print(f\"Median: {median_value}\")\n",
    "print(f\"Standard Deviation: {std_deviation}\")\n",
    "print(f\"Sum: {sum_value}\")"
   ]
  },
  {
   "cell_type": "code",
   "execution_count": 8,
   "id": "24c5c649",
   "metadata": {},
   "outputs": [
    {
     "name": "stdout",
     "output_type": "stream",
     "text": [
      "Count: 541909\n"
     ]
    }
   ],
   "source": [
    "count_values = daily_sales.count()\n",
    "print(f\"Count: {count_values}\")"
   ]
  },
  {
   "cell_type": "code",
   "execution_count": 11,
   "id": "05678827",
   "metadata": {},
   "outputs": [
    {
     "data": {
      "text/html": [
       "<div>\n",
       "<style scoped>\n",
       "    .dataframe tbody tr th:only-of-type {\n",
       "        vertical-align: middle;\n",
       "    }\n",
       "\n",
       "    .dataframe tbody tr th {\n",
       "        vertical-align: top;\n",
       "    }\n",
       "\n",
       "    .dataframe thead th {\n",
       "        text-align: right;\n",
       "    }\n",
       "</style>\n",
       "<table border=\"1\" class=\"dataframe\">\n",
       "  <thead>\n",
       "    <tr style=\"text-align: right;\">\n",
       "      <th></th>\n",
       "      <th>InvoiceNo</th>\n",
       "      <th>StockCode</th>\n",
       "      <th>Description</th>\n",
       "      <th>Quantity</th>\n",
       "      <th>InvoiceDate</th>\n",
       "      <th>UnitPrice</th>\n",
       "      <th>CustomerID</th>\n",
       "      <th>Country</th>\n",
       "    </tr>\n",
       "  </thead>\n",
       "  <tbody>\n",
       "    <tr>\n",
       "      <th>541899</th>\n",
       "      <td>581587</td>\n",
       "      <td>22726</td>\n",
       "      <td>ALARM CLOCK BAKELIKE GREEN</td>\n",
       "      <td>4</td>\n",
       "      <td>12/9/11 12:50</td>\n",
       "      <td>3.75</td>\n",
       "      <td>12680.0</td>\n",
       "      <td>France</td>\n",
       "    </tr>\n",
       "    <tr>\n",
       "      <th>541900</th>\n",
       "      <td>581587</td>\n",
       "      <td>22730</td>\n",
       "      <td>ALARM CLOCK BAKELIKE IVORY</td>\n",
       "      <td>4</td>\n",
       "      <td>12/9/11 12:50</td>\n",
       "      <td>3.75</td>\n",
       "      <td>12680.0</td>\n",
       "      <td>France</td>\n",
       "    </tr>\n",
       "    <tr>\n",
       "      <th>541901</th>\n",
       "      <td>581587</td>\n",
       "      <td>22367</td>\n",
       "      <td>CHILDRENS APRON SPACEBOY DESIGN</td>\n",
       "      <td>8</td>\n",
       "      <td>12/9/11 12:50</td>\n",
       "      <td>1.95</td>\n",
       "      <td>12680.0</td>\n",
       "      <td>France</td>\n",
       "    </tr>\n",
       "    <tr>\n",
       "      <th>541902</th>\n",
       "      <td>581587</td>\n",
       "      <td>22629</td>\n",
       "      <td>SPACEBOY LUNCH BOX</td>\n",
       "      <td>12</td>\n",
       "      <td>12/9/11 12:50</td>\n",
       "      <td>1.95</td>\n",
       "      <td>12680.0</td>\n",
       "      <td>France</td>\n",
       "    </tr>\n",
       "    <tr>\n",
       "      <th>541903</th>\n",
       "      <td>581587</td>\n",
       "      <td>23256</td>\n",
       "      <td>CHILDRENS CUTLERY SPACEBOY</td>\n",
       "      <td>4</td>\n",
       "      <td>12/9/11 12:50</td>\n",
       "      <td>4.15</td>\n",
       "      <td>12680.0</td>\n",
       "      <td>France</td>\n",
       "    </tr>\n",
       "    <tr>\n",
       "      <th>541904</th>\n",
       "      <td>581587</td>\n",
       "      <td>22613</td>\n",
       "      <td>PACK OF 20 SPACEBOY NAPKINS</td>\n",
       "      <td>12</td>\n",
       "      <td>12/9/11 12:50</td>\n",
       "      <td>0.85</td>\n",
       "      <td>12680.0</td>\n",
       "      <td>France</td>\n",
       "    </tr>\n",
       "    <tr>\n",
       "      <th>541905</th>\n",
       "      <td>581587</td>\n",
       "      <td>22899</td>\n",
       "      <td>CHILDREN'S APRON DOLLY GIRL</td>\n",
       "      <td>6</td>\n",
       "      <td>12/9/11 12:50</td>\n",
       "      <td>2.10</td>\n",
       "      <td>12680.0</td>\n",
       "      <td>France</td>\n",
       "    </tr>\n",
       "    <tr>\n",
       "      <th>541906</th>\n",
       "      <td>581587</td>\n",
       "      <td>23254</td>\n",
       "      <td>CHILDRENS CUTLERY DOLLY GIRL</td>\n",
       "      <td>4</td>\n",
       "      <td>12/9/11 12:50</td>\n",
       "      <td>4.15</td>\n",
       "      <td>12680.0</td>\n",
       "      <td>France</td>\n",
       "    </tr>\n",
       "    <tr>\n",
       "      <th>541907</th>\n",
       "      <td>581587</td>\n",
       "      <td>23255</td>\n",
       "      <td>CHILDRENS CUTLERY CIRCUS PARADE</td>\n",
       "      <td>4</td>\n",
       "      <td>12/9/11 12:50</td>\n",
       "      <td>4.15</td>\n",
       "      <td>12680.0</td>\n",
       "      <td>France</td>\n",
       "    </tr>\n",
       "    <tr>\n",
       "      <th>541908</th>\n",
       "      <td>581587</td>\n",
       "      <td>22138</td>\n",
       "      <td>BAKING SET 9 PIECE RETROSPOT</td>\n",
       "      <td>3</td>\n",
       "      <td>12/9/11 12:50</td>\n",
       "      <td>4.95</td>\n",
       "      <td>12680.0</td>\n",
       "      <td>France</td>\n",
       "    </tr>\n",
       "  </tbody>\n",
       "</table>\n",
       "</div>"
      ],
      "text/plain": [
       "       InvoiceNo StockCode                      Description  Quantity  \\\n",
       "541899    581587     22726       ALARM CLOCK BAKELIKE GREEN         4   \n",
       "541900    581587     22730       ALARM CLOCK BAKELIKE IVORY         4   \n",
       "541901    581587     22367  CHILDRENS APRON SPACEBOY DESIGN         8   \n",
       "541902    581587     22629              SPACEBOY LUNCH BOX         12   \n",
       "541903    581587     23256      CHILDRENS CUTLERY SPACEBOY          4   \n",
       "541904    581587     22613      PACK OF 20 SPACEBOY NAPKINS        12   \n",
       "541905    581587     22899     CHILDREN'S APRON DOLLY GIRL          6   \n",
       "541906    581587     23254    CHILDRENS CUTLERY DOLLY GIRL          4   \n",
       "541907    581587     23255  CHILDRENS CUTLERY CIRCUS PARADE         4   \n",
       "541908    581587     22138    BAKING SET 9 PIECE RETROSPOT          3   \n",
       "\n",
       "          InvoiceDate  UnitPrice  CustomerID Country  \n",
       "541899  12/9/11 12:50       3.75     12680.0  France  \n",
       "541900  12/9/11 12:50       3.75     12680.0  France  \n",
       "541901  12/9/11 12:50       1.95     12680.0  France  \n",
       "541902  12/9/11 12:50       1.95     12680.0  France  \n",
       "541903  12/9/11 12:50       4.15     12680.0  France  \n",
       "541904  12/9/11 12:50       0.85     12680.0  France  \n",
       "541905  12/9/11 12:50       2.10     12680.0  France  \n",
       "541906  12/9/11 12:50       4.15     12680.0  France  \n",
       "541907  12/9/11 12:50       4.15     12680.0  France  \n",
       "541908  12/9/11 12:50       4.95     12680.0  France  "
      ]
     },
     "execution_count": 11,
     "metadata": {},
     "output_type": "execute_result"
    }
   ],
   "source": [
    "df.tail(10)"
   ]
  },
  {
   "cell_type": "markdown",
   "id": "b1031e82",
   "metadata": {},
   "source": [
    "### iloc loc"
   ]
  },
  {
   "cell_type": "code",
   "execution_count": null,
   "id": "6a0d5930",
   "metadata": {},
   "outputs": [
    {
     "name": "stdout",
     "output_type": "stream",
     "text": [
      "InvoiceNo                            536365\n",
      "StockCode                             22752\n",
      "Description    SET 7 BABUSHKA NESTING BOXES\n",
      "Quantity                                  2\n",
      "InvoiceDate                    12/1/10 8:26\n",
      "UnitPrice                              7.65\n",
      "CustomerID                          17850.0\n",
      "Country                      United Kingdom\n",
      "Name: 5, dtype: object\n"
     ]
    }
   ],
   "source": [
    "firts_row = df.iloc[:]# Access by position\n",
    "print(firts_row)"
   ]
  },
  {
   "cell_type": "code",
   "execution_count": null,
   "id": "2cd74319",
   "metadata": {},
   "outputs": [],
   "source": []
  }
 ],
 "metadata": {
  "kernelspec": {
   "display_name": "base",
   "language": "python",
   "name": "python3"
  },
  "language_info": {
   "codemirror_mode": {
    "name": "ipython",
    "version": 3
   },
   "file_extension": ".py",
   "mimetype": "text/x-python",
   "name": "python",
   "nbconvert_exporter": "python",
   "pygments_lexer": "ipython3",
   "version": "3.12.7"
  }
 },
 "nbformat": 4,
 "nbformat_minor": 5
}
